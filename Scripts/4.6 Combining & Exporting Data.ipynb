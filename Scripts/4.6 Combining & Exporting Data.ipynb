{
 "cells": [
  {
   "cell_type": "markdown",
   "id": "4cfb6d82",
   "metadata": {},
   "source": [
    "## 4.6: Combining & Exporting Data"
   ]
  },
  {
   "cell_type": "code",
   "execution_count": 1,
   "id": "50de396d",
   "metadata": {},
   "outputs": [],
   "source": [
    "# Import libraries\n",
    "\n",
    "import pandas as pd\n",
    "import numpy as np\n",
    "import os"
   ]
  },
  {
   "cell_type": "code",
   "execution_count": 2,
   "id": "3e76deb1",
   "metadata": {},
   "outputs": [],
   "source": [
    "# reuseable data path\n",
    "file_location = r'C:\\Users\\natta\\Downloads\\Achievement 4 project'"
   ]
  },
  {
   "cell_type": "code",
   "execution_count": 3,
   "id": "7c6ad861",
   "metadata": {},
   "outputs": [],
   "source": [
    "# Data frame creating for orders_csv\n",
    "\n",
    "df_ords = pd.read_csv(os.path.join(file_location, '02 Data', 'prepared data' , 'orders_wrangled.csv'), index_col = False)"
   ]
  },
  {
   "cell_type": "code",
   "execution_count": 4,
   "id": "c2c7e20a",
   "metadata": {},
   "outputs": [],
   "source": [
    "# Data frame creating for df_ords_prior\n",
    "df_ords_prior = pd.read_csv(os.path.join(file_location, '02 Data', 'original data', 'order_products__prior.csv'), index_col = False)"
   ]
  },
  {
   "cell_type": "code",
   "execution_count": 11,
   "id": "4e1e236d",
   "metadata": {},
   "outputs": [
    {
     "data": {
      "text/html": [
       "<div>\n",
       "<style scoped>\n",
       "    .dataframe tbody tr th:only-of-type {\n",
       "        vertical-align: middle;\n",
       "    }\n",
       "\n",
       "    .dataframe tbody tr th {\n",
       "        vertical-align: top;\n",
       "    }\n",
       "\n",
       "    .dataframe thead th {\n",
       "        text-align: right;\n",
       "    }\n",
       "</style>\n",
       "<table border=\"1\" class=\"dataframe\">\n",
       "  <thead>\n",
       "    <tr style=\"text-align: right;\">\n",
       "      <th></th>\n",
       "      <th>order_id</th>\n",
       "      <th>product_id</th>\n",
       "      <th>add_to_cart_order</th>\n",
       "      <th>reordered</th>\n",
       "    </tr>\n",
       "  </thead>\n",
       "  <tbody>\n",
       "    <tr>\n",
       "      <th>0</th>\n",
       "      <td>2</td>\n",
       "      <td>33120</td>\n",
       "      <td>1</td>\n",
       "      <td>1</td>\n",
       "    </tr>\n",
       "    <tr>\n",
       "      <th>1</th>\n",
       "      <td>2</td>\n",
       "      <td>28985</td>\n",
       "      <td>2</td>\n",
       "      <td>1</td>\n",
       "    </tr>\n",
       "    <tr>\n",
       "      <th>2</th>\n",
       "      <td>2</td>\n",
       "      <td>9327</td>\n",
       "      <td>3</td>\n",
       "      <td>0</td>\n",
       "    </tr>\n",
       "    <tr>\n",
       "      <th>3</th>\n",
       "      <td>2</td>\n",
       "      <td>45918</td>\n",
       "      <td>4</td>\n",
       "      <td>1</td>\n",
       "    </tr>\n",
       "    <tr>\n",
       "      <th>4</th>\n",
       "      <td>2</td>\n",
       "      <td>30035</td>\n",
       "      <td>5</td>\n",
       "      <td>0</td>\n",
       "    </tr>\n",
       "  </tbody>\n",
       "</table>\n",
       "</div>"
      ],
      "text/plain": [
       "   order_id  product_id  add_to_cart_order  reordered\n",
       "0         2       33120                  1          1\n",
       "1         2       28985                  2          1\n",
       "2         2        9327                  3          0\n",
       "3         2       45918                  4          1\n",
       "4         2       30035                  5          0"
      ]
     },
     "execution_count": 11,
     "metadata": {},
     "output_type": "execute_result"
    }
   ],
   "source": [
    "# cheak output of 'order_products__prior'\n",
    "\n",
    "df_ords_prior.head()"
   ]
  },
  {
   "cell_type": "code",
   "execution_count": 12,
   "id": "0a8e4716",
   "metadata": {},
   "outputs": [
    {
     "data": {
      "text/plain": [
       "(32434489, 4)"
      ]
     },
     "execution_count": 12,
     "metadata": {},
     "output_type": "execute_result"
    }
   ],
   "source": [
    "# cheak shape of 'order_products__prior'\n",
    "\n",
    "df_ords_prior.shape"
   ]
  },
  {
   "cell_type": "code",
   "execution_count": 13,
   "id": "ebb7488f",
   "metadata": {},
   "outputs": [],
   "source": [
    "# merge data as df_merged_large with common data column 'order id'   ( Task 1)\n",
    "\n",
    "df_merged_large = df_ords.merge(df_ords_prior, on = 'order_id', indicator = True)"
   ]
  },
  {
   "cell_type": "code",
   "execution_count": 16,
   "id": "0a345003",
   "metadata": {},
   "outputs": [
    {
     "data": {
      "text/html": [
       "<div>\n",
       "<style scoped>\n",
       "    .dataframe tbody tr th:only-of-type {\n",
       "        vertical-align: middle;\n",
       "    }\n",
       "\n",
       "    .dataframe tbody tr th {\n",
       "        vertical-align: top;\n",
       "    }\n",
       "\n",
       "    .dataframe thead th {\n",
       "        text-align: right;\n",
       "    }\n",
       "</style>\n",
       "<table border=\"1\" class=\"dataframe\">\n",
       "  <thead>\n",
       "    <tr style=\"text-align: right;\">\n",
       "      <th></th>\n",
       "      <th>Unnamed: 0</th>\n",
       "      <th>order_id</th>\n",
       "      <th>user_id</th>\n",
       "      <th>order_number</th>\n",
       "      <th>orders_day_of_week</th>\n",
       "      <th>order_hour_of_day</th>\n",
       "      <th>days_since_prior_order</th>\n",
       "      <th>product_id</th>\n",
       "      <th>add_to_cart_order</th>\n",
       "      <th>reordered</th>\n",
       "      <th>_merge</th>\n",
       "    </tr>\n",
       "  </thead>\n",
       "  <tbody>\n",
       "    <tr>\n",
       "      <th>0</th>\n",
       "      <td>0</td>\n",
       "      <td>2539329</td>\n",
       "      <td>1</td>\n",
       "      <td>1</td>\n",
       "      <td>2</td>\n",
       "      <td>8</td>\n",
       "      <td>NaN</td>\n",
       "      <td>196</td>\n",
       "      <td>1</td>\n",
       "      <td>0</td>\n",
       "      <td>both</td>\n",
       "    </tr>\n",
       "    <tr>\n",
       "      <th>1</th>\n",
       "      <td>0</td>\n",
       "      <td>2539329</td>\n",
       "      <td>1</td>\n",
       "      <td>1</td>\n",
       "      <td>2</td>\n",
       "      <td>8</td>\n",
       "      <td>NaN</td>\n",
       "      <td>14084</td>\n",
       "      <td>2</td>\n",
       "      <td>0</td>\n",
       "      <td>both</td>\n",
       "    </tr>\n",
       "    <tr>\n",
       "      <th>2</th>\n",
       "      <td>0</td>\n",
       "      <td>2539329</td>\n",
       "      <td>1</td>\n",
       "      <td>1</td>\n",
       "      <td>2</td>\n",
       "      <td>8</td>\n",
       "      <td>NaN</td>\n",
       "      <td>12427</td>\n",
       "      <td>3</td>\n",
       "      <td>0</td>\n",
       "      <td>both</td>\n",
       "    </tr>\n",
       "    <tr>\n",
       "      <th>3</th>\n",
       "      <td>0</td>\n",
       "      <td>2539329</td>\n",
       "      <td>1</td>\n",
       "      <td>1</td>\n",
       "      <td>2</td>\n",
       "      <td>8</td>\n",
       "      <td>NaN</td>\n",
       "      <td>26088</td>\n",
       "      <td>4</td>\n",
       "      <td>0</td>\n",
       "      <td>both</td>\n",
       "    </tr>\n",
       "    <tr>\n",
       "      <th>4</th>\n",
       "      <td>0</td>\n",
       "      <td>2539329</td>\n",
       "      <td>1</td>\n",
       "      <td>1</td>\n",
       "      <td>2</td>\n",
       "      <td>8</td>\n",
       "      <td>NaN</td>\n",
       "      <td>26405</td>\n",
       "      <td>5</td>\n",
       "      <td>0</td>\n",
       "      <td>both</td>\n",
       "    </tr>\n",
       "  </tbody>\n",
       "</table>\n",
       "</div>"
      ],
      "text/plain": [
       "   Unnamed: 0  order_id  user_id  order_number  orders_day_of_week  \\\n",
       "0           0   2539329        1             1                   2   \n",
       "1           0   2539329        1             1                   2   \n",
       "2           0   2539329        1             1                   2   \n",
       "3           0   2539329        1             1                   2   \n",
       "4           0   2539329        1             1                   2   \n",
       "\n",
       "   order_hour_of_day  days_since_prior_order  product_id  add_to_cart_order  \\\n",
       "0                  8                     NaN         196                  1   \n",
       "1                  8                     NaN       14084                  2   \n",
       "2                  8                     NaN       12427                  3   \n",
       "3                  8                     NaN       26088                  4   \n",
       "4                  8                     NaN       26405                  5   \n",
       "\n",
       "   reordered _merge  \n",
       "0          0   both  \n",
       "1          0   both  \n",
       "2          0   both  \n",
       "3          0   both  \n",
       "4          0   both  "
      ]
     },
     "execution_count": 16,
     "metadata": {},
     "output_type": "execute_result"
    }
   ],
   "source": [
    "df_merged_large.head()"
   ]
  },
  {
   "cell_type": "code",
   "execution_count": 18,
   "id": "98924cb1",
   "metadata": {},
   "outputs": [
    {
     "data": {
      "text/plain": [
       "both          32434489\n",
       "left_only            0\n",
       "right_only           0\n",
       "Name: _merge, dtype: int64"
      ]
     },
     "execution_count": 18,
     "metadata": {},
     "output_type": "execute_result"
    }
   ],
   "source": [
    "# Cheaking merge\n",
    "df_merged_large['_merge'].value_counts()"
   ]
  },
  {
   "cell_type": "code",
   "execution_count": 22,
   "id": "fee78ed9",
   "metadata": {},
   "outputs": [],
   "source": [
    "#Drop _merge\n",
    "\n",
    "df_merged_large = df_merged_large.drop(columns = ['_merge'])"
   ]
  },
  {
   "cell_type": "code",
   "execution_count": 23,
   "id": "67827cc4",
   "metadata": {},
   "outputs": [],
   "source": [
    "# Export data as .pkl ( task 2)\n",
    "\n",
    "df_merged_large.to_pickle(os.path.join(file_location, '02 Data','prepared data', 'orders_products_combined.pkl'))"
   ]
  },
  {
   "cell_type": "code",
   "execution_count": 24,
   "id": "3aa84db2",
   "metadata": {},
   "outputs": [],
   "source": [
    " # export data as .csv\n",
    "    \n",
    "df_merged_large.to_csv(os.path.join(file_location, '02 Data', 'prepared data', 'orders_products_combined.csv'))    "
   ]
  },
  {
   "cell_type": "markdown",
   "id": "abf2501a",
   "metadata": {},
   "source": []
  },
  {
   "cell_type": "markdown",
   "id": "3ae88b66",
   "metadata": {},
   "source": [
    " ## Merging df_merged_large.plk and product cleaned.csv "
   ]
  },
  {
   "cell_type": "code",
   "execution_count": 27,
   "id": "8a0181f3",
   "metadata": {},
   "outputs": [],
   "source": [
    "# importing df_merged_large data frame as df_orders_products\n",
    "\n",
    "df_orders_products = pd.read_pickle(os.path.join(file_location, '02 Data', 'prepared data' , 'orders_products_combined.pkl'))"
   ]
  },
  {
   "cell_type": "code",
   "execution_count": 28,
   "id": "10917ac1",
   "metadata": {},
   "outputs": [],
   "source": [
    "# importing product_cleaned as df_products\n",
    "\n",
    "df_products = pd.read_csv(os.path.join(file_location, '02 Data', 'prepared data' , 'product_cleaned.csv'), index_col = False)"
   ]
  },
  {
   "cell_type": "code",
   "execution_count": 35,
   "id": "56ee005f",
   "metadata": {},
   "outputs": [
    {
     "name": "stdout",
     "output_type": "stream",
     "text": [
      "Index(['Unnamed: 0', 'product_id', 'product_name', 'aisle_id', 'department_id',\n",
      "       'prices'],\n",
      "      dtype='object')\n"
     ]
    }
   ],
   "source": [
    "print (df_products.columns)"
   ]
  },
  {
   "cell_type": "code",
   "execution_count": 36,
   "id": "bdc52f86",
   "metadata": {},
   "outputs": [
    {
     "name": "stdout",
     "output_type": "stream",
     "text": [
      "Index(['Unnamed: 0', 'order_id', 'user_id', 'order_number',\n",
      "       'orders_day_of_week', 'order_hour_of_day', 'days_since_prior_order',\n",
      "       'product_id', 'add_to_cart_order', 'reordered'],\n",
      "      dtype='object')\n"
     ]
    }
   ],
   "source": [
    "print(df_orders_products.columns)"
   ]
  },
  {
   "cell_type": "code",
   "execution_count": 37,
   "id": "b5ed249c",
   "metadata": {},
   "outputs": [],
   "source": [
    "# Merging df_products and df_orders_products with common columns 'product_id'\n",
    "\n",
    "df_orders_products_merged = df_orders_products.merge(df_products, on = 'product_id', indicator = True)"
   ]
  },
  {
   "cell_type": "code",
   "execution_count": 38,
   "id": "fedd0ba2",
   "metadata": {},
   "outputs": [
    {
     "data": {
      "text/html": [
       "<div>\n",
       "<style scoped>\n",
       "    .dataframe tbody tr th:only-of-type {\n",
       "        vertical-align: middle;\n",
       "    }\n",
       "\n",
       "    .dataframe tbody tr th {\n",
       "        vertical-align: top;\n",
       "    }\n",
       "\n",
       "    .dataframe thead th {\n",
       "        text-align: right;\n",
       "    }\n",
       "</style>\n",
       "<table border=\"1\" class=\"dataframe\">\n",
       "  <thead>\n",
       "    <tr style=\"text-align: right;\">\n",
       "      <th></th>\n",
       "      <th>Unnamed: 0_x</th>\n",
       "      <th>order_id</th>\n",
       "      <th>user_id</th>\n",
       "      <th>order_number</th>\n",
       "      <th>orders_day_of_week</th>\n",
       "      <th>order_hour_of_day</th>\n",
       "      <th>days_since_prior_order</th>\n",
       "      <th>product_id</th>\n",
       "      <th>add_to_cart_order</th>\n",
       "      <th>reordered</th>\n",
       "      <th>Unnamed: 0_y</th>\n",
       "      <th>product_name</th>\n",
       "      <th>aisle_id</th>\n",
       "      <th>department_id</th>\n",
       "      <th>prices</th>\n",
       "      <th>_merge</th>\n",
       "    </tr>\n",
       "  </thead>\n",
       "  <tbody>\n",
       "    <tr>\n",
       "      <th>0</th>\n",
       "      <td>0</td>\n",
       "      <td>2539329</td>\n",
       "      <td>1</td>\n",
       "      <td>1</td>\n",
       "      <td>2</td>\n",
       "      <td>8</td>\n",
       "      <td>NaN</td>\n",
       "      <td>196</td>\n",
       "      <td>1</td>\n",
       "      <td>0</td>\n",
       "      <td>195</td>\n",
       "      <td>Soda</td>\n",
       "      <td>77</td>\n",
       "      <td>7</td>\n",
       "      <td>9.0</td>\n",
       "      <td>both</td>\n",
       "    </tr>\n",
       "    <tr>\n",
       "      <th>1</th>\n",
       "      <td>1</td>\n",
       "      <td>2398795</td>\n",
       "      <td>1</td>\n",
       "      <td>2</td>\n",
       "      <td>3</td>\n",
       "      <td>7</td>\n",
       "      <td>15.0</td>\n",
       "      <td>196</td>\n",
       "      <td>1</td>\n",
       "      <td>1</td>\n",
       "      <td>195</td>\n",
       "      <td>Soda</td>\n",
       "      <td>77</td>\n",
       "      <td>7</td>\n",
       "      <td>9.0</td>\n",
       "      <td>both</td>\n",
       "    </tr>\n",
       "    <tr>\n",
       "      <th>2</th>\n",
       "      <td>2</td>\n",
       "      <td>473747</td>\n",
       "      <td>1</td>\n",
       "      <td>3</td>\n",
       "      <td>3</td>\n",
       "      <td>12</td>\n",
       "      <td>21.0</td>\n",
       "      <td>196</td>\n",
       "      <td>1</td>\n",
       "      <td>1</td>\n",
       "      <td>195</td>\n",
       "      <td>Soda</td>\n",
       "      <td>77</td>\n",
       "      <td>7</td>\n",
       "      <td>9.0</td>\n",
       "      <td>both</td>\n",
       "    </tr>\n",
       "    <tr>\n",
       "      <th>3</th>\n",
       "      <td>3</td>\n",
       "      <td>2254736</td>\n",
       "      <td>1</td>\n",
       "      <td>4</td>\n",
       "      <td>4</td>\n",
       "      <td>7</td>\n",
       "      <td>29.0</td>\n",
       "      <td>196</td>\n",
       "      <td>1</td>\n",
       "      <td>1</td>\n",
       "      <td>195</td>\n",
       "      <td>Soda</td>\n",
       "      <td>77</td>\n",
       "      <td>7</td>\n",
       "      <td>9.0</td>\n",
       "      <td>both</td>\n",
       "    </tr>\n",
       "    <tr>\n",
       "      <th>4</th>\n",
       "      <td>4</td>\n",
       "      <td>431534</td>\n",
       "      <td>1</td>\n",
       "      <td>5</td>\n",
       "      <td>4</td>\n",
       "      <td>15</td>\n",
       "      <td>28.0</td>\n",
       "      <td>196</td>\n",
       "      <td>1</td>\n",
       "      <td>1</td>\n",
       "      <td>195</td>\n",
       "      <td>Soda</td>\n",
       "      <td>77</td>\n",
       "      <td>7</td>\n",
       "      <td>9.0</td>\n",
       "      <td>both</td>\n",
       "    </tr>\n",
       "    <tr>\n",
       "      <th>...</th>\n",
       "      <td>...</td>\n",
       "      <td>...</td>\n",
       "      <td>...</td>\n",
       "      <td>...</td>\n",
       "      <td>...</td>\n",
       "      <td>...</td>\n",
       "      <td>...</td>\n",
       "      <td>...</td>\n",
       "      <td>...</td>\n",
       "      <td>...</td>\n",
       "      <td>...</td>\n",
       "      <td>...</td>\n",
       "      <td>...</td>\n",
       "      <td>...</td>\n",
       "      <td>...</td>\n",
       "      <td>...</td>\n",
       "    </tr>\n",
       "    <tr>\n",
       "      <th>32404854</th>\n",
       "      <td>3360493</td>\n",
       "      <td>1320836</td>\n",
       "      <td>202557</td>\n",
       "      <td>17</td>\n",
       "      <td>2</td>\n",
       "      <td>15</td>\n",
       "      <td>1.0</td>\n",
       "      <td>43553</td>\n",
       "      <td>2</td>\n",
       "      <td>1</td>\n",
       "      <td>43557</td>\n",
       "      <td>Orange Energy Shots</td>\n",
       "      <td>64</td>\n",
       "      <td>7</td>\n",
       "      <td>3.7</td>\n",
       "      <td>both</td>\n",
       "    </tr>\n",
       "    <tr>\n",
       "      <th>32404855</th>\n",
       "      <td>3360494</td>\n",
       "      <td>31526</td>\n",
       "      <td>202557</td>\n",
       "      <td>18</td>\n",
       "      <td>5</td>\n",
       "      <td>11</td>\n",
       "      <td>3.0</td>\n",
       "      <td>43553</td>\n",
       "      <td>2</td>\n",
       "      <td>1</td>\n",
       "      <td>43557</td>\n",
       "      <td>Orange Energy Shots</td>\n",
       "      <td>64</td>\n",
       "      <td>7</td>\n",
       "      <td>3.7</td>\n",
       "      <td>both</td>\n",
       "    </tr>\n",
       "    <tr>\n",
       "      <th>32404856</th>\n",
       "      <td>3376038</td>\n",
       "      <td>758936</td>\n",
       "      <td>203436</td>\n",
       "      <td>1</td>\n",
       "      <td>2</td>\n",
       "      <td>7</td>\n",
       "      <td>NaN</td>\n",
       "      <td>42338</td>\n",
       "      <td>4</td>\n",
       "      <td>0</td>\n",
       "      <td>42342</td>\n",
       "      <td>Zucchini Chips, Pesto</td>\n",
       "      <td>50</td>\n",
       "      <td>19</td>\n",
       "      <td>6.9</td>\n",
       "      <td>both</td>\n",
       "    </tr>\n",
       "    <tr>\n",
       "      <th>32404857</th>\n",
       "      <td>3376039</td>\n",
       "      <td>2745165</td>\n",
       "      <td>203436</td>\n",
       "      <td>2</td>\n",
       "      <td>3</td>\n",
       "      <td>5</td>\n",
       "      <td>15.0</td>\n",
       "      <td>42338</td>\n",
       "      <td>16</td>\n",
       "      <td>1</td>\n",
       "      <td>42342</td>\n",
       "      <td>Zucchini Chips, Pesto</td>\n",
       "      <td>50</td>\n",
       "      <td>19</td>\n",
       "      <td>6.9</td>\n",
       "      <td>both</td>\n",
       "    </tr>\n",
       "    <tr>\n",
       "      <th>32404858</th>\n",
       "      <td>3408036</td>\n",
       "      <td>3093936</td>\n",
       "      <td>205420</td>\n",
       "      <td>1</td>\n",
       "      <td>4</td>\n",
       "      <td>14</td>\n",
       "      <td>NaN</td>\n",
       "      <td>28818</td>\n",
       "      <td>8</td>\n",
       "      <td>0</td>\n",
       "      <td>28820</td>\n",
       "      <td>Hot Oatmeal Multigrain Raisin</td>\n",
       "      <td>130</td>\n",
       "      <td>14</td>\n",
       "      <td>10.3</td>\n",
       "      <td>both</td>\n",
       "    </tr>\n",
       "  </tbody>\n",
       "</table>\n",
       "<p>32404859 rows × 16 columns</p>\n",
       "</div>"
      ],
      "text/plain": [
       "          Unnamed: 0_x  order_id  user_id  order_number  orders_day_of_week  \\\n",
       "0                    0   2539329        1             1                   2   \n",
       "1                    1   2398795        1             2                   3   \n",
       "2                    2    473747        1             3                   3   \n",
       "3                    3   2254736        1             4                   4   \n",
       "4                    4    431534        1             5                   4   \n",
       "...                ...       ...      ...           ...                 ...   \n",
       "32404854       3360493   1320836   202557            17                   2   \n",
       "32404855       3360494     31526   202557            18                   5   \n",
       "32404856       3376038    758936   203436             1                   2   \n",
       "32404857       3376039   2745165   203436             2                   3   \n",
       "32404858       3408036   3093936   205420             1                   4   \n",
       "\n",
       "          order_hour_of_day  days_since_prior_order  product_id  \\\n",
       "0                         8                     NaN         196   \n",
       "1                         7                    15.0         196   \n",
       "2                        12                    21.0         196   \n",
       "3                         7                    29.0         196   \n",
       "4                        15                    28.0         196   \n",
       "...                     ...                     ...         ...   \n",
       "32404854                 15                     1.0       43553   \n",
       "32404855                 11                     3.0       43553   \n",
       "32404856                  7                     NaN       42338   \n",
       "32404857                  5                    15.0       42338   \n",
       "32404858                 14                     NaN       28818   \n",
       "\n",
       "          add_to_cart_order  reordered  Unnamed: 0_y  \\\n",
       "0                         1          0           195   \n",
       "1                         1          1           195   \n",
       "2                         1          1           195   \n",
       "3                         1          1           195   \n",
       "4                         1          1           195   \n",
       "...                     ...        ...           ...   \n",
       "32404854                  2          1         43557   \n",
       "32404855                  2          1         43557   \n",
       "32404856                  4          0         42342   \n",
       "32404857                 16          1         42342   \n",
       "32404858                  8          0         28820   \n",
       "\n",
       "                           product_name  aisle_id  department_id  prices  \\\n",
       "0                                  Soda        77              7     9.0   \n",
       "1                                  Soda        77              7     9.0   \n",
       "2                                  Soda        77              7     9.0   \n",
       "3                                  Soda        77              7     9.0   \n",
       "4                                  Soda        77              7     9.0   \n",
       "...                                 ...       ...            ...     ...   \n",
       "32404854            Orange Energy Shots        64              7     3.7   \n",
       "32404855            Orange Energy Shots        64              7     3.7   \n",
       "32404856          Zucchini Chips, Pesto        50             19     6.9   \n",
       "32404857          Zucchini Chips, Pesto        50             19     6.9   \n",
       "32404858  Hot Oatmeal Multigrain Raisin       130             14    10.3   \n",
       "\n",
       "         _merge  \n",
       "0          both  \n",
       "1          both  \n",
       "2          both  \n",
       "3          both  \n",
       "4          both  \n",
       "...         ...  \n",
       "32404854   both  \n",
       "32404855   both  \n",
       "32404856   both  \n",
       "32404857   both  \n",
       "32404858   both  \n",
       "\n",
       "[32404859 rows x 16 columns]"
      ]
     },
     "execution_count": 38,
     "metadata": {},
     "output_type": "execute_result"
    }
   ],
   "source": [
    "df_orders_products_merged"
   ]
  },
  {
   "cell_type": "code",
   "execution_count": 39,
   "id": "575420c6",
   "metadata": {},
   "outputs": [
    {
     "data": {
      "text/plain": [
       "both          32404859\n",
       "left_only            0\n",
       "right_only           0\n",
       "Name: _merge, dtype: int64"
      ]
     },
     "execution_count": 39,
     "metadata": {},
     "output_type": "execute_result"
    }
   ],
   "source": [
    "# Merge cheack ( frequency check)\n",
    "\n",
    "df_orders_products_merged ['_merge'].value_counts()"
   ]
  },
  {
   "cell_type": "code",
   "execution_count": 40,
   "id": "a4ae75e6",
   "metadata": {},
   "outputs": [
    {
     "data": {
      "text/plain": [
       "(32404859, 16)"
      ]
     },
     "execution_count": 40,
     "metadata": {},
     "output_type": "execute_result"
    }
   ],
   "source": [
    "df_orders_products_merged.shape"
   ]
  },
  {
   "cell_type": "markdown",
   "id": "502d4a97",
   "metadata": {},
   "source": [
    "## Exporting   data frame as orders_products_merged "
   ]
  },
  {
   "cell_type": "code",
   "execution_count": 42,
   "id": "bdf732b6",
   "metadata": {},
   "outputs": [],
   "source": [
    "df_orders_products_merged.to_pickle(os.path.join(file_location, '02 Data','prepared data', 'orders_products_merged.pkl'))"
   ]
  },
  {
   "cell_type": "code",
   "execution_count": null,
   "id": "e827c53c",
   "metadata": {},
   "outputs": [],
   "source": []
  }
 ],
 "metadata": {
  "kernelspec": {
   "display_name": "Python 3 (ipykernel)",
   "language": "python",
   "name": "python3"
  },
  "language_info": {
   "codemirror_mode": {
    "name": "ipython",
    "version": 3
   },
   "file_extension": ".py",
   "mimetype": "text/x-python",
   "name": "python",
   "nbconvert_exporter": "python",
   "pygments_lexer": "ipython3",
   "version": "3.9.12"
  }
 },
 "nbformat": 4,
 "nbformat_minor": 5
}
