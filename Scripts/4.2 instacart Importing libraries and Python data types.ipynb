{
 "cells": [
  {
   "cell_type": "markdown",
   "id": "94dc59cc",
   "metadata": {},
   "source": [
    "01. Importing libraries"
   ]
  },
  {
   "cell_type": "code",
   "execution_count": 1,
   "id": "69b76adc",
   "metadata": {},
   "outputs": [],
   "source": [
    "#import libraries \n",
    "import pandas as pd\n",
    "import numpy as np\n",
    "import os"
   ]
  },
  {
   "cell_type": "markdown",
   "id": "107e508b",
   "metadata": {},
   "source": [
    "02.Data types"
   ]
  },
  {
   "cell_type": "code",
   "execution_count": 15,
   "id": "dd8a2771",
   "metadata": {},
   "outputs": [],
   "source": [
    "x = 70\n",
    "\n",
    "\n",
    "y = 30\n",
    "\n",
    "n = 2"
   ]
  },
  {
   "cell_type": "code",
   "execution_count": 14,
   "id": "288d2f36",
   "metadata": {},
   "outputs": [
    {
     "data": {
      "text/plain": [
       "100"
      ]
     },
     "execution_count": 14,
     "metadata": {},
     "output_type": "execute_result"
    }
   ],
   "source": [
    "x+y"
   ]
  },
  {
   "cell_type": "code",
   "execution_count": 40,
   "id": "628f2579",
   "metadata": {},
   "outputs": [
    {
     "data": {
      "text/plain": [
       "100"
      ]
     },
     "execution_count": 40,
     "metadata": {},
     "output_type": "execute_result"
    }
   ],
   "source": [
    "((x*n)-(y*(n+1)))*n"
   ]
  },
  {
   "cell_type": "code",
   "execution_count": 21,
   "id": "92c0ad2a",
   "metadata": {},
   "outputs": [
    {
     "data": {
      "text/plain": [
       "100"
      ]
     },
     "execution_count": 21,
     "metadata": {},
     "output_type": "execute_result"
    }
   ],
   "source": [
    "50+50"
   ]
  },
  {
   "cell_type": "code",
   "execution_count": 22,
   "id": "095bb425",
   "metadata": {},
   "outputs": [],
   "source": [
    "X= 2.56\n",
    "\n",
    "\n",
    "Y= 5.6"
   ]
  },
  {
   "cell_type": "code",
   "execution_count": 23,
   "id": "bfbb6a42",
   "metadata": {},
   "outputs": [
    {
     "data": {
      "text/plain": [
       "0.4571428571428572"
      ]
     },
     "execution_count": 23,
     "metadata": {},
     "output_type": "execute_result"
    }
   ],
   "source": [
    "X/Y"
   ]
  },
  {
   "cell_type": "code",
   "execution_count": 24,
   "id": "cb490a50",
   "metadata": {},
   "outputs": [
    {
     "data": {
      "text/plain": [
       "2.1875"
      ]
     },
     "execution_count": 24,
     "metadata": {},
     "output_type": "execute_result"
    }
   ],
   "source": [
    "Y/X"
   ]
  },
  {
   "cell_type": "code",
   "execution_count": 29,
   "id": "3a8fe052",
   "metadata": {},
   "outputs": [],
   "source": [
    "A = 'Hello, '\n",
    "\n",
    "B = 'world'"
   ]
  },
  {
   "cell_type": "code",
   "execution_count": 30,
   "id": "032d1cfd",
   "metadata": {},
   "outputs": [
    {
     "name": "stdout",
     "output_type": "stream",
     "text": [
      "Hello, world\n"
     ]
    }
   ],
   "source": [
    "print(A+B)"
   ]
  },
  {
   "cell_type": "code",
   "execution_count": 45,
   "id": "8e4a0663",
   "metadata": {},
   "outputs": [],
   "source": [
    "text= 'I am learning Python'"
   ]
  },
  {
   "cell_type": "code",
   "execution_count": 46,
   "id": "aa3247c1",
   "metadata": {},
   "outputs": [
    {
     "name": "stdout",
     "output_type": "stream",
     "text": [
      "I am learning Python\n"
     ]
    }
   ],
   "source": [
    "print(text)"
   ]
  },
  {
   "cell_type": "code",
   "execution_count": 52,
   "id": "9ad7f7ec",
   "metadata": {},
   "outputs": [
    {
     "name": "stdout",
     "output_type": "stream",
     "text": [
      "i    am    learning    Python\n"
     ]
    }
   ],
   "source": [
    "text= ['i', 'am', 'learning' , 'Python']\n",
    "print('    '.join(text))"
   ]
  },
  {
   "cell_type": "code",
   "execution_count": 55,
   "id": "32ddfce3",
   "metadata": {},
   "outputs": [],
   "source": [
    "Python= 'Make it 100'"
   ]
  },
  {
   "cell_type": "code",
   "execution_count": 57,
   "id": "12749a81",
   "metadata": {},
   "outputs": [
    {
     "name": "stdout",
     "output_type": "stream",
     "text": [
      "Make it 100Make it 100Make it 100Make it 100Make it 100Make it 100Make it 100Make it 100Make it 100Make it 100Make it 100Make it 100Make it 100Make it 100Make it 100Make it 100Make it 100Make it 100Make it 100Make it 100Make it 100Make it 100Make it 100Make it 100Make it 100Make it 100Make it 100Make it 100Make it 100Make it 100Make it 100Make it 100Make it 100Make it 100Make it 100Make it 100Make it 100Make it 100Make it 100Make it 100Make it 100Make it 100Make it 100Make it 100Make it 100Make it 100Make it 100Make it 100Make it 100Make it 100Make it 100Make it 100Make it 100Make it 100Make it 100Make it 100Make it 100Make it 100Make it 100Make it 100Make it 100Make it 100Make it 100Make it 100Make it 100Make it 100Make it 100Make it 100Make it 100Make it 100Make it 100Make it 100Make it 100Make it 100Make it 100Make it 100Make it 100Make it 100Make it 100Make it 100Make it 100Make it 100Make it 100Make it 100Make it 100Make it 100Make it 100Make it 100Make it 100Make it 100Make it 100Make it 100Make it 100Make it 100Make it 100Make it 100Make it 100Make it 100Make it 100Make it 100\n"
     ]
    }
   ],
   "source": [
    "print((Python)*100)"
   ]
  },
  {
   "cell_type": "code",
   "execution_count": null,
   "id": "04d852cd",
   "metadata": {},
   "outputs": [],
   "source": []
  },
  {
   "cell_type": "code",
   "execution_count": null,
   "id": "b49e7be4",
   "metadata": {},
   "outputs": [],
   "source": []
  }
 ],
 "metadata": {
  "kernelspec": {
   "display_name": "Python 3 (ipykernel)",
   "language": "python",
   "name": "python3"
  },
  "language_info": {
   "codemirror_mode": {
    "name": "ipython",
    "version": 3
   },
   "file_extension": ".py",
   "mimetype": "text/x-python",
   "name": "python",
   "nbconvert_exporter": "python",
   "pygments_lexer": "ipython3",
   "version": "3.9.12"
  }
 },
 "nbformat": 4,
 "nbformat_minor": 5
}
