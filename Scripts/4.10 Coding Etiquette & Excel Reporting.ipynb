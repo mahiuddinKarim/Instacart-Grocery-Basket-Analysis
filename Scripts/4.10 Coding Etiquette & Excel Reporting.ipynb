{
 "cells": [
  {
   "cell_type": "code",
   "execution_count": 1,
   "id": "0e9ce5ed",
   "metadata": {},
   "outputs": [],
   "source": [
    "# Import libraries\n",
    "\n",
    "import pandas as pd\n",
    "import numpy as np\n",
    "import os\n",
    "import matplotlib.pyplot as plt\n",
    "import seaborn as sns\n",
    "import scipy"
   ]
  },
  {
   "cell_type": "code",
   "execution_count": 2,
   "id": "c4e0c0dc",
   "metadata": {},
   "outputs": [],
   "source": [
    "# reuseable data path\n",
    "file_location = r'C:\\Users\\natta\\Downloads\\Achievement 4 project'"
   ]
  },
  {
   "cell_type": "code",
   "execution_count": 3,
   "id": "8f80ad6f",
   "metadata": {},
   "outputs": [],
   "source": [
    "# Importing data frame \n",
    "\n",
    "Instacart_merged = pd.read_pickle(os.path.join(file_location, '02 Data', 'prepared data' , 'orders_products_customers_merged.pkl'))"
   ]
  },
  {
   "cell_type": "code",
   "execution_count": 4,
   "id": "f7fa38d2",
   "metadata": {},
   "outputs": [
    {
     "data": {
      "text/html": [
       "<div>\n",
       "<style scoped>\n",
       "    .dataframe tbody tr th:only-of-type {\n",
       "        vertical-align: middle;\n",
       "    }\n",
       "\n",
       "    .dataframe tbody tr th {\n",
       "        vertical-align: top;\n",
       "    }\n",
       "\n",
       "    .dataframe thead th {\n",
       "        text-align: right;\n",
       "    }\n",
       "</style>\n",
       "<table border=\"1\" class=\"dataframe\">\n",
       "  <thead>\n",
       "    <tr style=\"text-align: right;\">\n",
       "      <th></th>\n",
       "      <th>Unnamed: 0_x</th>\n",
       "      <th>order_id</th>\n",
       "      <th>user_id</th>\n",
       "      <th>order_number</th>\n",
       "      <th>orders_day_of_week</th>\n",
       "      <th>order_hour_of_day</th>\n",
       "      <th>days_since_prior_order</th>\n",
       "      <th>product_id</th>\n",
       "      <th>add_to_cart_order</th>\n",
       "      <th>reordered</th>\n",
       "      <th>...</th>\n",
       "      <th>order_frequency_flag</th>\n",
       "      <th>first_name</th>\n",
       "      <th>last_name</th>\n",
       "      <th>gender</th>\n",
       "      <th>state</th>\n",
       "      <th>age</th>\n",
       "      <th>date_joined</th>\n",
       "      <th>number_of_dependants</th>\n",
       "      <th>fam_status</th>\n",
       "      <th>income</th>\n",
       "    </tr>\n",
       "  </thead>\n",
       "  <tbody>\n",
       "    <tr>\n",
       "      <th>0</th>\n",
       "      <td>0</td>\n",
       "      <td>2539329</td>\n",
       "      <td>1</td>\n",
       "      <td>1</td>\n",
       "      <td>2</td>\n",
       "      <td>8</td>\n",
       "      <td>NaN</td>\n",
       "      <td>196</td>\n",
       "      <td>1</td>\n",
       "      <td>0</td>\n",
       "      <td>...</td>\n",
       "      <td>Non-frequent customer</td>\n",
       "      <td>Linda</td>\n",
       "      <td>Nguyen</td>\n",
       "      <td>Female</td>\n",
       "      <td>Alabama</td>\n",
       "      <td>31</td>\n",
       "      <td>2/17/2019</td>\n",
       "      <td>3</td>\n",
       "      <td>married</td>\n",
       "      <td>40423</td>\n",
       "    </tr>\n",
       "    <tr>\n",
       "      <th>1</th>\n",
       "      <td>1</td>\n",
       "      <td>2398795</td>\n",
       "      <td>1</td>\n",
       "      <td>2</td>\n",
       "      <td>3</td>\n",
       "      <td>7</td>\n",
       "      <td>15.0</td>\n",
       "      <td>196</td>\n",
       "      <td>1</td>\n",
       "      <td>1</td>\n",
       "      <td>...</td>\n",
       "      <td>Non-frequent customer</td>\n",
       "      <td>Linda</td>\n",
       "      <td>Nguyen</td>\n",
       "      <td>Female</td>\n",
       "      <td>Alabama</td>\n",
       "      <td>31</td>\n",
       "      <td>2/17/2019</td>\n",
       "      <td>3</td>\n",
       "      <td>married</td>\n",
       "      <td>40423</td>\n",
       "    </tr>\n",
       "    <tr>\n",
       "      <th>2</th>\n",
       "      <td>2</td>\n",
       "      <td>473747</td>\n",
       "      <td>1</td>\n",
       "      <td>3</td>\n",
       "      <td>3</td>\n",
       "      <td>12</td>\n",
       "      <td>21.0</td>\n",
       "      <td>196</td>\n",
       "      <td>1</td>\n",
       "      <td>1</td>\n",
       "      <td>...</td>\n",
       "      <td>Non-frequent customer</td>\n",
       "      <td>Linda</td>\n",
       "      <td>Nguyen</td>\n",
       "      <td>Female</td>\n",
       "      <td>Alabama</td>\n",
       "      <td>31</td>\n",
       "      <td>2/17/2019</td>\n",
       "      <td>3</td>\n",
       "      <td>married</td>\n",
       "      <td>40423</td>\n",
       "    </tr>\n",
       "    <tr>\n",
       "      <th>3</th>\n",
       "      <td>3</td>\n",
       "      <td>2254736</td>\n",
       "      <td>1</td>\n",
       "      <td>4</td>\n",
       "      <td>4</td>\n",
       "      <td>7</td>\n",
       "      <td>29.0</td>\n",
       "      <td>196</td>\n",
       "      <td>1</td>\n",
       "      <td>1</td>\n",
       "      <td>...</td>\n",
       "      <td>Non-frequent customer</td>\n",
       "      <td>Linda</td>\n",
       "      <td>Nguyen</td>\n",
       "      <td>Female</td>\n",
       "      <td>Alabama</td>\n",
       "      <td>31</td>\n",
       "      <td>2/17/2019</td>\n",
       "      <td>3</td>\n",
       "      <td>married</td>\n",
       "      <td>40423</td>\n",
       "    </tr>\n",
       "    <tr>\n",
       "      <th>4</th>\n",
       "      <td>4</td>\n",
       "      <td>431534</td>\n",
       "      <td>1</td>\n",
       "      <td>5</td>\n",
       "      <td>4</td>\n",
       "      <td>15</td>\n",
       "      <td>28.0</td>\n",
       "      <td>196</td>\n",
       "      <td>1</td>\n",
       "      <td>1</td>\n",
       "      <td>...</td>\n",
       "      <td>Non-frequent customer</td>\n",
       "      <td>Linda</td>\n",
       "      <td>Nguyen</td>\n",
       "      <td>Female</td>\n",
       "      <td>Alabama</td>\n",
       "      <td>31</td>\n",
       "      <td>2/17/2019</td>\n",
       "      <td>3</td>\n",
       "      <td>married</td>\n",
       "      <td>40423</td>\n",
       "    </tr>\n",
       "  </tbody>\n",
       "</table>\n",
       "<p>5 rows × 35 columns</p>\n",
       "</div>"
      ],
      "text/plain": [
       "   Unnamed: 0_x  order_id user_id  order_number  orders_day_of_week  \\\n",
       "0             0   2539329       1             1                   2   \n",
       "1             1   2398795       1             2                   3   \n",
       "2             2    473747       1             3                   3   \n",
       "3             3   2254736       1             4                   4   \n",
       "4             4    431534       1             5                   4   \n",
       "\n",
       "   order_hour_of_day  days_since_prior_order  product_id  add_to_cart_order  \\\n",
       "0                  8                     NaN         196                  1   \n",
       "1                  7                    15.0         196                  1   \n",
       "2                 12                    21.0         196                  1   \n",
       "3                  7                    29.0         196                  1   \n",
       "4                 15                    28.0         196                  1   \n",
       "\n",
       "   reordered  ...   order_frequency_flag first_name  last_name  gender  \\\n",
       "0          0  ...  Non-frequent customer      Linda     Nguyen  Female   \n",
       "1          1  ...  Non-frequent customer      Linda     Nguyen  Female   \n",
       "2          1  ...  Non-frequent customer      Linda     Nguyen  Female   \n",
       "3          1  ...  Non-frequent customer      Linda     Nguyen  Female   \n",
       "4          1  ...  Non-frequent customer      Linda     Nguyen  Female   \n",
       "\n",
       "     state age date_joined number_of_dependants fam_status income  \n",
       "0  Alabama  31   2/17/2019                    3    married  40423  \n",
       "1  Alabama  31   2/17/2019                    3    married  40423  \n",
       "2  Alabama  31   2/17/2019                    3    married  40423  \n",
       "3  Alabama  31   2/17/2019                    3    married  40423  \n",
       "4  Alabama  31   2/17/2019                    3    married  40423  \n",
       "\n",
       "[5 rows x 35 columns]"
      ]
     },
     "execution_count": 4,
     "metadata": {},
     "output_type": "execute_result"
    }
   ],
   "source": [
    "Instacart_merged.head()"
   ]
  },
  {
   "cell_type": "markdown",
   "id": "370adb37",
   "metadata": {},
   "source": [
    "# Task 2. address the PII data."
   ]
  },
  {
   "cell_type": "code",
   "execution_count": null,
   "id": "95d277a2",
   "metadata": {},
   "outputs": [],
   "source": [
    "# In this data frame we have two columns with name as first name and last name. we wil drop this as security measeure."
   ]
  },
  {
   "cell_type": "code",
   "execution_count": 5,
   "id": "94ad0982",
   "metadata": {},
   "outputs": [],
   "source": [
    "instacart_pii = Instacart_merged.drop(columns = ['first_name', 'last_name'])"
   ]
  },
  {
   "cell_type": "markdown",
   "id": "c3aee843",
   "metadata": {},
   "source": [
    "# Task 3 comparing diffrent geographic areas"
   ]
  },
  {
   "cell_type": "code",
   "execution_count": null,
   "id": "0df7f4f3",
   "metadata": {},
   "outputs": [],
   "source": [
    "# 1st creating list of region labels using ' for-loop with if-statements '"
   ]
  },
  {
   "cell_type": "code",
   "execution_count": 6,
   "id": "2d65fed3",
   "metadata": {},
   "outputs": [],
   "source": [
    "region = []\n",
    "\n",
    "for value in instacart_pii['state']:\n",
    "    if (value in ['Maine', 'New Hampshire', 'Vermont', 'Massachusetts', 'Rhode Island', 'Connecticut', 'New York', 'Pennsylvania', 'New Jersey']):\n",
    "        region.append('Northeast')\n",
    "    elif (value in ['Wisconsin', 'Michigan', 'Illinois', 'Indiana', 'Ohio', 'North Dakota', 'South Dakota', 'Nebraska', 'Kansas', 'Minnesota', 'Iowa', 'Missouri']):\n",
    "        region.append('Midwest')\n",
    "    elif (value in ['Delaware', 'Maryland', 'District of Columbia', 'Virginia', 'West Virginia', 'North Carolina', 'South Carolina', 'Georgia', 'Florida', 'Kentucky', 'Tennessee', 'Mississippi', 'Alabama', 'Oklahoma', 'Texas', 'Arkansas', 'Louisiana']):\n",
    "        region.append('South')\n",
    "    else:\n",
    "        region.append('West')"
   ]
  },
  {
   "cell_type": "code",
   "execution_count": null,
   "id": "20b50bab",
   "metadata": {},
   "outputs": [],
   "source": [
    "# 2nd creating columns on data frame as 'region'"
   ]
  },
  {
   "cell_type": "code",
   "execution_count": 7,
   "id": "7ebec367",
   "metadata": {},
   "outputs": [],
   "source": [
    "# Now creating the new column\n",
    "instacart_pii['region'] = region"
   ]
  },
  {
   "cell_type": "code",
   "execution_count": 8,
   "id": "b32a2ae8",
   "metadata": {},
   "outputs": [
    {
     "data": {
      "text/plain": [
       "South        10791885\n",
       "West          8292913\n",
       "Midwest       7597325\n",
       "Northeast     5722736\n",
       "Name: region, dtype: int64"
      ]
     },
     "execution_count": 8,
     "metadata": {},
     "output_type": "execute_result"
    }
   ],
   "source": [
    "# value count for the new columns 'region'\n",
    "\n",
    "instacart_pii ['region'].value_counts()"
   ]
  },
  {
   "cell_type": "code",
   "execution_count": 9,
   "id": "e042ecc7",
   "metadata": {},
   "outputs": [],
   "source": [
    "# Creating flags as 'low spender' and 'high spender'\n",
    "\n",
    "instacart_pii.loc[instacart_pii['spending'] < 10, 'spending_flag'] = 'Low spender'"
   ]
  },
  {
   "cell_type": "code",
   "execution_count": 10,
   "id": "51149e36",
   "metadata": {},
   "outputs": [],
   "source": [
    "instacart_pii.loc[instacart_pii['spending'] > 10, 'spending_flag'] = 'High spender'"
   ]
  },
  {
   "cell_type": "code",
   "execution_count": 11,
   "id": "37f592be",
   "metadata": {},
   "outputs": [
    {
     "data": {
      "text/html": [
       "<div>\n",
       "<style scoped>\n",
       "    .dataframe tbody tr th:only-of-type {\n",
       "        vertical-align: middle;\n",
       "    }\n",
       "\n",
       "    .dataframe tbody tr th {\n",
       "        vertical-align: top;\n",
       "    }\n",
       "\n",
       "    .dataframe thead th {\n",
       "        text-align: right;\n",
       "    }\n",
       "</style>\n",
       "<table border=\"1\" class=\"dataframe\">\n",
       "  <thead>\n",
       "    <tr style=\"text-align: right;\">\n",
       "      <th></th>\n",
       "      <th>Unnamed: 0_x</th>\n",
       "      <th>order_id</th>\n",
       "      <th>user_id</th>\n",
       "      <th>order_number</th>\n",
       "      <th>orders_day_of_week</th>\n",
       "      <th>order_hour_of_day</th>\n",
       "      <th>days_since_prior_order</th>\n",
       "      <th>product_id</th>\n",
       "      <th>add_to_cart_order</th>\n",
       "      <th>reordered</th>\n",
       "      <th>...</th>\n",
       "      <th>order_frequency</th>\n",
       "      <th>order_frequency_flag</th>\n",
       "      <th>gender</th>\n",
       "      <th>state</th>\n",
       "      <th>age</th>\n",
       "      <th>date_joined</th>\n",
       "      <th>number_of_dependants</th>\n",
       "      <th>fam_status</th>\n",
       "      <th>income</th>\n",
       "      <th>region</th>\n",
       "    </tr>\n",
       "  </thead>\n",
       "  <tbody>\n",
       "    <tr>\n",
       "      <th>0</th>\n",
       "      <td>0</td>\n",
       "      <td>2539329</td>\n",
       "      <td>1</td>\n",
       "      <td>1</td>\n",
       "      <td>2</td>\n",
       "      <td>8</td>\n",
       "      <td>NaN</td>\n",
       "      <td>196</td>\n",
       "      <td>1</td>\n",
       "      <td>0</td>\n",
       "      <td>...</td>\n",
       "      <td>30.0</td>\n",
       "      <td>Non-frequent customer</td>\n",
       "      <td>Female</td>\n",
       "      <td>Alabama</td>\n",
       "      <td>31</td>\n",
       "      <td>2/17/2019</td>\n",
       "      <td>3</td>\n",
       "      <td>married</td>\n",
       "      <td>40423</td>\n",
       "      <td>South</td>\n",
       "    </tr>\n",
       "    <tr>\n",
       "      <th>1</th>\n",
       "      <td>1</td>\n",
       "      <td>2398795</td>\n",
       "      <td>1</td>\n",
       "      <td>2</td>\n",
       "      <td>3</td>\n",
       "      <td>7</td>\n",
       "      <td>15.0</td>\n",
       "      <td>196</td>\n",
       "      <td>1</td>\n",
       "      <td>1</td>\n",
       "      <td>...</td>\n",
       "      <td>30.0</td>\n",
       "      <td>Non-frequent customer</td>\n",
       "      <td>Female</td>\n",
       "      <td>Alabama</td>\n",
       "      <td>31</td>\n",
       "      <td>2/17/2019</td>\n",
       "      <td>3</td>\n",
       "      <td>married</td>\n",
       "      <td>40423</td>\n",
       "      <td>South</td>\n",
       "    </tr>\n",
       "  </tbody>\n",
       "</table>\n",
       "<p>2 rows × 34 columns</p>\n",
       "</div>"
      ],
      "text/plain": [
       "   Unnamed: 0_x  order_id user_id  order_number  orders_day_of_week  \\\n",
       "0             0   2539329       1             1                   2   \n",
       "1             1   2398795       1             2                   3   \n",
       "\n",
       "   order_hour_of_day  days_since_prior_order  product_id  add_to_cart_order  \\\n",
       "0                  8                     NaN         196                  1   \n",
       "1                  7                    15.0         196                  1   \n",
       "\n",
       "   reordered  ...  order_frequency   order_frequency_flag  gender    state  \\\n",
       "0          0  ...             30.0  Non-frequent customer  Female  Alabama   \n",
       "1          1  ...             30.0  Non-frequent customer  Female  Alabama   \n",
       "\n",
       "   age date_joined number_of_dependants fam_status income region  \n",
       "0   31   2/17/2019                    3    married  40423  South  \n",
       "1   31   2/17/2019                    3    married  40423  South  \n",
       "\n",
       "[2 rows x 34 columns]"
      ]
     },
     "execution_count": 11,
     "metadata": {},
     "output_type": "execute_result"
    }
   ],
   "source": [
    "instacart_pii.head(2)"
   ]
  },
  {
   "cell_type": "code",
   "execution_count": 12,
   "id": "26f4fcd7",
   "metadata": {},
   "outputs": [],
   "source": [
    "# making cross tab as ' crosstab_sh 'to crosscheack spedning  habits \n",
    "\n",
    "crosstab_sh = pd.crosstab(instacart_pii['region'], instacart_pii['spending_flag'], dropna = False)"
   ]
  },
  {
   "cell_type": "code",
   "execution_count": 13,
   "id": "c1811a70",
   "metadata": {},
   "outputs": [
    {
     "data": {
      "text/html": [
       "<div>\n",
       "<style scoped>\n",
       "    .dataframe tbody tr th:only-of-type {\n",
       "        vertical-align: middle;\n",
       "    }\n",
       "\n",
       "    .dataframe tbody tr th {\n",
       "        vertical-align: top;\n",
       "    }\n",
       "\n",
       "    .dataframe thead th {\n",
       "        text-align: right;\n",
       "    }\n",
       "</style>\n",
       "<table border=\"1\" class=\"dataframe\">\n",
       "  <thead>\n",
       "    <tr style=\"text-align: right;\">\n",
       "      <th>spending_flag</th>\n",
       "      <th>High spender</th>\n",
       "      <th>Low spender</th>\n",
       "    </tr>\n",
       "    <tr>\n",
       "      <th>region</th>\n",
       "      <th></th>\n",
       "      <th></th>\n",
       "    </tr>\n",
       "  </thead>\n",
       "  <tbody>\n",
       "    <tr>\n",
       "      <th>Midwest</th>\n",
       "      <td>55706</td>\n",
       "      <td>176898</td>\n",
       "    </tr>\n",
       "    <tr>\n",
       "      <th>Northeast</th>\n",
       "      <td>42782</td>\n",
       "      <td>134241</td>\n",
       "    </tr>\n",
       "    <tr>\n",
       "      <th>South</th>\n",
       "      <td>80446</td>\n",
       "      <td>253132</td>\n",
       "    </tr>\n",
       "    <tr>\n",
       "      <th>West</th>\n",
       "      <td>60418</td>\n",
       "      <td>196008</td>\n",
       "    </tr>\n",
       "  </tbody>\n",
       "</table>\n",
       "</div>"
      ],
      "text/plain": [
       "spending_flag  High spender  Low spender\n",
       "region                                  \n",
       "Midwest               55706       176898\n",
       "Northeast             42782       134241\n",
       "South                 80446       253132\n",
       "West                  60418       196008"
      ]
     },
     "execution_count": 13,
     "metadata": {},
     "output_type": "execute_result"
    }
   ],
   "source": [
    "crosstab_sh"
   ]
  },
  {
   "cell_type": "code",
   "execution_count": 14,
   "id": "ba83138b",
   "metadata": {},
   "outputs": [],
   "source": [
    "# calculatinf percentage of high spender to look at difference on speeding in diffrent region\n",
    "midwest = (55706 / (55706+176898)) * 100\n",
    "northwest= (42782 /(42782 + 134241)) *100\n",
    "south= (80446 /(80446 + 253132)) *100\n",
    "west = (60418 /(60418 + 196008))*100"
   ]
  },
  {
   "cell_type": "code",
   "execution_count": 15,
   "id": "38f01a09",
   "metadata": {},
   "outputs": [
    {
     "data": {
      "text/plain": [
       "(23.94885728534333, 24.167481061782933, 24.116098783492916, 23.56157331939819)"
      ]
     },
     "execution_count": 15,
     "metadata": {},
     "output_type": "execute_result"
    }
   ],
   "source": [
    "midwest, northwest, south, west"
   ]
  },
  {
   "cell_type": "code",
   "execution_count": null,
   "id": "4bb2fd8a",
   "metadata": {},
   "outputs": [],
   "source": [
    "# spending pattern all the region is alsmost same."
   ]
  },
  {
   "cell_type": "markdown",
   "id": "58c36fa7",
   "metadata": {},
   "source": [
    "# TASK 4 Create an exclusion flag for low-activity customers (less than 5 orders) and exclude them from data"
   ]
  },
  {
   "cell_type": "code",
   "execution_count": null,
   "id": "8261d7d0",
   "metadata": {},
   "outputs": [],
   "source": [
    "# creating activity flag for customer under 5 orders"
   ]
  },
  {
   "cell_type": "code",
   "execution_count": 16,
   "id": "8e8a7566",
   "metadata": {},
   "outputs": [],
   "source": [
    "instacart_pii.loc[instacart_pii['max_order'] < 5, 'activity_flag'] = 'Low activity customer'"
   ]
  },
  {
   "cell_type": "code",
   "execution_count": null,
   "id": "9f30c8ae",
   "metadata": {},
   "outputs": [],
   "source": [
    "# creating activity flag for customer over and equal 5 orders"
   ]
  },
  {
   "cell_type": "code",
   "execution_count": 17,
   "id": "a28214aa",
   "metadata": {},
   "outputs": [],
   "source": [
    "instacart_pii.loc[instacart_pii['max_order'] >= 5, 'activity_flag'] = 'Normal activity customer'"
   ]
  },
  {
   "cell_type": "code",
   "execution_count": 18,
   "id": "4eba45e7",
   "metadata": {},
   "outputs": [
    {
     "data": {
      "text/plain": [
       "Normal activity customer    937352\n",
       "Low activity customer        62648\n",
       "Name: activity_flag, dtype: int64"
      ]
     },
     "execution_count": 18,
     "metadata": {},
     "output_type": "execute_result"
    }
   ],
   "source": [
    "# Check the counts in this variable\n",
    "\n",
    "instacart_pii['activity_flag'].value_counts(dropna = True)"
   ]
  },
  {
   "cell_type": "code",
   "execution_count": null,
   "id": "f6636183",
   "metadata": {},
   "outputs": [],
   "source": [
    "# Create subset of dataframe with normal activity customers"
   ]
  },
  {
   "cell_type": "code",
   "execution_count": 19,
   "id": "6da63a7a",
   "metadata": {},
   "outputs": [],
   "source": [
    "df_normal_activity_customer = instacart_pii[instacart_pii['activity_flag'] == 'Normal activity customer']"
   ]
  },
  {
   "cell_type": "code",
   "execution_count": 21,
   "id": "eccca54e",
   "metadata": {},
   "outputs": [],
   "source": [
    "# Export normaL-activity  customer dataframes for future use\n",
    "\n",
    "df_normal_activity_customer.to_pickle(os.path.join(file_location,'02 Data','prepared Data','normal_activity_subset.pkl'))"
   ]
  },
  {
   "cell_type": "code",
   "execution_count": null,
   "id": "a51f9577",
   "metadata": {},
   "outputs": [],
   "source": [
    "# Create subset of dataframe with  low activity customers"
   ]
  },
  {
   "cell_type": "code",
   "execution_count": 22,
   "id": "b0ed403d",
   "metadata": {},
   "outputs": [],
   "source": [
    "df_low_activity_customer = instacart_pii[instacart_pii['activity_flag'] == 'low activity customer']"
   ]
  },
  {
   "cell_type": "code",
   "execution_count": null,
   "id": "5461f7a3",
   "metadata": {},
   "outputs": [],
   "source": [
    "# Export low-activity customer dataframes for future use"
   ]
  },
  {
   "cell_type": "code",
   "execution_count": 23,
   "id": "8fb03824",
   "metadata": {},
   "outputs": [],
   "source": [
    "df_low_activity_customer.to_pickle(os.path.join(file_location,'02 Data','prepared Data','low_activity_subset.pkl'))"
   ]
  },
  {
   "cell_type": "markdown",
   "id": "3e31c516",
   "metadata": {},
   "source": [
    "## Task 5"
   ]
  },
  {
   "cell_type": "code",
   "execution_count": null,
   "id": "c8d287af",
   "metadata": {},
   "outputs": [],
   "source": [
    "# creating age variable"
   ]
  },
  {
   "cell_type": "code",
   "execution_count": 25,
   "id": "18dc61fd",
   "metadata": {},
   "outputs": [],
   "source": [
    "# Create 'age' list\n",
    "\n",
    "age_vari = []\n",
    "\n",
    "for value in instacart_pii['age']:\n",
    "    if (value >= 18) and (value <= 24):\n",
    "        age_vari.append('18-24')\n",
    "    elif (value >= 25) and (value <= 34):\n",
    "        age_vari.append('25-34')\n",
    "    elif (value >= 35) and (value <= 44):\n",
    "        age_vari.append('35-44')\n",
    "    elif (value >= 45) and (value <= 54):\n",
    "        age_vari.append('45-54')\n",
    "    elif (value >= 55) and (value <= 64):\n",
    "        age_vari.append('55-64')\n",
    "    elif (value >= 65) and (value <= 74):\n",
    "        age_vari.append('65-74')\n",
    "    elif (value >= 75) and (value <= 84):\n",
    "        age_vari.append('75-84')\n",
    "    elif (value >= 85):\n",
    "        age_vari.append('85+')"
   ]
  },
  {
   "cell_type": "code",
   "execution_count": 26,
   "id": "db0051e8",
   "metadata": {},
   "outputs": [],
   "source": [
    "# Assign age list to column\n",
    "\n",
    "instacart_pii ['age_profile'] = age_vari"
   ]
  },
  {
   "cell_type": "code",
   "execution_count": null,
   "id": "7178338e",
   "metadata": {},
   "outputs": [],
   "source": [
    "# income variable"
   ]
  },
  {
   "cell_type": "code",
   "execution_count": 27,
   "id": "39ed2912",
   "metadata": {},
   "outputs": [],
   "source": [
    "# Create 'income' list\n",
    "\n",
    "income_vari = []\n",
    "\n",
    "for value in instacart_pii['income']:\n",
    "    if value < 25000:\n",
    "        income_vari.append('0-25000')\n",
    "    elif (value >= 25000) and (value <= 50000):\n",
    "        income_vari.append('25000-50000')\n",
    "    elif (value >= 50000) and (value <= 75000):\n",
    "        income_vari.append('50000-75000')\n",
    "    elif (value >= 75000) and (value <= 100000):\n",
    "        income_vari.append('75000-100000')\n",
    "    elif (value >= 100000) and (value <= 125000):\n",
    "        income_vari.append('100000-125000')\n",
    "    elif (value >= 125000) and (value <= 150000):\n",
    "        income_vari.append('125000-150000')\n",
    "    elif (value >= 150000) and (value <= 175000):\n",
    "        income_vari.append('150000-175000')\n",
    "    elif (value >= 175000) and (value <= 200000):\n",
    "        income_vari.append('175000-200000')\n",
    "    elif (value >= 200000) and (value <= 300000):\n",
    "        income_vari.append('200000-300000')\n",
    "    elif (value >= 300000) and (value <= 400000):\n",
    "        income_vari.append('300000-400000')\n",
    "    elif (value >= 400000) and (value <= 500000):\n",
    "        income_vari.append('400000-500000')\n",
    "    elif value >= 500000:\n",
    "        income_vari.append('500000+')"
   ]
  },
  {
   "cell_type": "code",
   "execution_count": 28,
   "id": "454588d2",
   "metadata": {},
   "outputs": [],
   "source": [
    "# Assign income list to column\n",
    "\n",
    "instacart_pii['income_profile'] = income_vari"
   ]
  },
  {
   "cell_type": "code",
   "execution_count": null,
   "id": "a7c02774",
   "metadata": {},
   "outputs": [],
   "source": [
    "# Dependents variable"
   ]
  },
  {
   "cell_type": "code",
   "execution_count": 32,
   "id": "2596ffbb",
   "metadata": {},
   "outputs": [],
   "source": [
    "# Create 'dependents' list\n",
    "\n",
    "dependents_vari = []\n",
    "\n",
    "for value in instacart_pii['number_of_dependants']:\n",
    "    if value == 0:\n",
    "        dependents_vari.append('Non-parent')\n",
    "    else:\n",
    "        dependents_vari.append('Parent')"
   ]
  },
  {
   "cell_type": "code",
   "execution_count": 34,
   "id": "24d7d2d6",
   "metadata": {},
   "outputs": [],
   "source": [
    "# Assign dependents list to column\n",
    "\n",
    "instacart_pii['dependents_profile'] = dependents_vari"
   ]
  },
  {
   "cell_type": "markdown",
   "id": "579ca5c3",
   "metadata": {},
   "source": [
    "## Task 6 Create an appropriate visualization to show the distribution of profiles."
   ]
  },
  {
   "cell_type": "code",
   "execution_count": null,
   "id": "2d772b61",
   "metadata": {},
   "outputs": [],
   "source": [
    "# Age profile visualization"
   ]
  },
  {
   "cell_type": "code",
   "execution_count": 35,
   "id": "0a89b686",
   "metadata": {},
   "outputs": [
    {
     "data": {
      "image/png": "[encoded data removed]",
      "text/plain": [
       "<Figure size 432x288 with 1 Axes>"
      ]
     },
     "metadata": {
      "needs_background": "light"
     },
     "output_type": "display_data"
    }
   ],
   "source": [
    "age_chart = instacart_pii['age_profile'].value_counts().plot.bar(color = 'tab:blue', xlabel = 'Age group', ylabel = 'Count (millions)', title = 'Age profile distribution')"
   ]
  },
  {
   "cell_type": "code",
   "execution_count": 36,
   "id": "41b49f60",
   "metadata": {},
   "outputs": [],
   "source": [
    "age_chart.figure.savefig(os.path.join(file_location, '04 Analysis', 'Visualizations', 'age_profile_distribution.png'))"
   ]
  },
  {
   "cell_type": "code",
   "execution_count": null,
   "id": "8a7ad639",
   "metadata": {},
   "outputs": [],
   "source": [
    "# Income profile distribution"
   ]
  },
  {
   "cell_type": "code",
   "execution_count": 37,
   "id": "edcb6ed7",
   "metadata": {},
   "outputs": [
    {
     "data": {
      "image/png": "[encoded data removed]",
      "text/plain": [
       "<Figure size 432x288 with 1 Axes>"
      ]
     },
     "metadata": {
      "needs_background": "light"
     },
     "output_type": "display_data"
    }
   ],
   "source": [
    "income_chart = instacart_pii ['income_profile'].value_counts().plot.bar(color = 'tab:pink', xlabel = 'Income group', ylabel = 'Count (millions)', title = 'Income profile distribution')"
   ]
  },
  {
   "cell_type": "code",
   "execution_count": 38,
   "id": "43736567",
   "metadata": {},
   "outputs": [],
   "source": [
    "income_chart.figure.savefig(os.path.join(file_location, '04 Analysis', 'Visualizations', 'income_profile_distribution.png'))"
   ]
  },
  {
   "cell_type": "code",
   "execution_count": null,
   "id": "afb244af",
   "metadata": {},
   "outputs": [],
   "source": [
    "# Dependents profile distribution"
   ]
  },
  {
   "cell_type": "code",
   "execution_count": 39,
   "id": "89a4e378",
   "metadata": {},
   "outputs": [
    {
     "data": {
      "image/png": "[encoded data removed]",
      "text/plain": [
       "<Figure size 432x288 with 1 Axes>"
      ]
     },
     "metadata": {},
     "output_type": "display_data"
    }
   ],
   "source": [
    "dependents_chart = instacart_pii['dependents_profile'].value_counts().plot.pie(title = 'Dependents profile distribution', ylabel='')"
   ]
  },
  {
   "cell_type": "code",
   "execution_count": 40,
   "id": "fec87bd7",
   "metadata": {},
   "outputs": [],
   "source": [
    "dependents_chart.figure.savefig(os.path.join(file_location, '04 Analysis', 'Visualizations', 'dependents_profile_distribution.png'))"
   ]
  },
  {
   "cell_type": "markdown",
   "id": "dc303878",
   "metadata": {},
   "source": [
    "## task 7. Aggregate max, min, and mean variables on customer-profile level for usage frequency and expenditure"
   ]
  },
  {
   "cell_type": "code",
   "execution_count": 43,
   "id": "5fb3df8b",
   "metadata": {},
   "outputs": [
    {
     "data": {
      "text/html": [
       "<div>\n",
       "<style scoped>\n",
       "    .dataframe tbody tr th:only-of-type {\n",
       "        vertical-align: middle;\n",
       "    }\n",
       "\n",
       "    .dataframe tbody tr th {\n",
       "        vertical-align: top;\n",
       "    }\n",
       "\n",
       "    .dataframe thead tr th {\n",
       "        text-align: left;\n",
       "    }\n",
       "\n",
       "    .dataframe thead tr:last-of-type th {\n",
       "        text-align: right;\n",
       "    }\n",
       "</style>\n",
       "<table border=\"1\" class=\"dataframe\">\n",
       "  <thead>\n",
       "    <tr>\n",
       "      <th></th>\n",
       "      <th colspan=\"3\" halign=\"left\">order_number</th>\n",
       "    </tr>\n",
       "    <tr>\n",
       "      <th></th>\n",
       "      <th>mean</th>\n",
       "      <th>min</th>\n",
       "      <th>max</th>\n",
       "    </tr>\n",
       "    <tr>\n",
       "      <th>dependents_profile</th>\n",
       "      <th></th>\n",
       "      <th></th>\n",
       "      <th></th>\n",
       "    </tr>\n",
       "  </thead>\n",
       "  <tbody>\n",
       "    <tr>\n",
       "      <th>Non-parent</th>\n",
       "      <td>17.264622</td>\n",
       "      <td>1</td>\n",
       "      <td>99</td>\n",
       "    </tr>\n",
       "    <tr>\n",
       "      <th>Parent</th>\n",
       "      <td>17.101557</td>\n",
       "      <td>1</td>\n",
       "      <td>99</td>\n",
       "    </tr>\n",
       "  </tbody>\n",
       "</table>\n",
       "</div>"
      ],
      "text/plain": [
       "                   order_number        \n",
       "                           mean min max\n",
       "dependents_profile                     \n",
       "Non-parent            17.264622   1  99\n",
       "Parent                17.101557   1  99"
      ]
     },
     "execution_count": 43,
     "metadata": {},
     "output_type": "execute_result"
    }
   ],
   "source": [
    "# Order number by profile\n",
    "instacart_pii.groupby('dependents_profile').agg({'order_number': ['mean', 'min', 'max']})"
   ]
  },
  {
   "cell_type": "code",
   "execution_count": 44,
   "id": "47623237",
   "metadata": {},
   "outputs": [
    {
     "data": {
      "text/html": [
       "<div>\n",
       "<style scoped>\n",
       "    .dataframe tbody tr th:only-of-type {\n",
       "        vertical-align: middle;\n",
       "    }\n",
       "\n",
       "    .dataframe tbody tr th {\n",
       "        vertical-align: top;\n",
       "    }\n",
       "\n",
       "    .dataframe thead tr th {\n",
       "        text-align: left;\n",
       "    }\n",
       "\n",
       "    .dataframe thead tr:last-of-type th {\n",
       "        text-align: right;\n",
       "    }\n",
       "</style>\n",
       "<table border=\"1\" class=\"dataframe\">\n",
       "  <thead>\n",
       "    <tr>\n",
       "      <th></th>\n",
       "      <th colspan=\"3\" halign=\"left\">order_number</th>\n",
       "    </tr>\n",
       "    <tr>\n",
       "      <th></th>\n",
       "      <th>mean</th>\n",
       "      <th>min</th>\n",
       "      <th>max</th>\n",
       "    </tr>\n",
       "    <tr>\n",
       "      <th>income_profile</th>\n",
       "      <th></th>\n",
       "      <th></th>\n",
       "      <th></th>\n",
       "    </tr>\n",
       "  </thead>\n",
       "  <tbody>\n",
       "    <tr>\n",
       "      <th>100000-125000</th>\n",
       "      <td>17.271478</td>\n",
       "      <td>1</td>\n",
       "      <td>99</td>\n",
       "    </tr>\n",
       "    <tr>\n",
       "      <th>125000-150000</th>\n",
       "      <td>17.117874</td>\n",
       "      <td>1</td>\n",
       "      <td>99</td>\n",
       "    </tr>\n",
       "    <tr>\n",
       "      <th>150000-175000</th>\n",
       "      <td>17.290060</td>\n",
       "      <td>1</td>\n",
       "      <td>99</td>\n",
       "    </tr>\n",
       "    <tr>\n",
       "      <th>175000-200000</th>\n",
       "      <td>19.145743</td>\n",
       "      <td>1</td>\n",
       "      <td>99</td>\n",
       "    </tr>\n",
       "    <tr>\n",
       "      <th>200000-300000</th>\n",
       "      <td>19.561127</td>\n",
       "      <td>1</td>\n",
       "      <td>99</td>\n",
       "    </tr>\n",
       "    <tr>\n",
       "      <th>25000-50000</th>\n",
       "      <td>15.896069</td>\n",
       "      <td>1</td>\n",
       "      <td>99</td>\n",
       "    </tr>\n",
       "    <tr>\n",
       "      <th>300000-400000</th>\n",
       "      <td>20.869333</td>\n",
       "      <td>1</td>\n",
       "      <td>99</td>\n",
       "    </tr>\n",
       "    <tr>\n",
       "      <th>400000-500000</th>\n",
       "      <td>18.736775</td>\n",
       "      <td>1</td>\n",
       "      <td>99</td>\n",
       "    </tr>\n",
       "    <tr>\n",
       "      <th>50000-75000</th>\n",
       "      <td>17.350705</td>\n",
       "      <td>1</td>\n",
       "      <td>99</td>\n",
       "    </tr>\n",
       "    <tr>\n",
       "      <th>500000+</th>\n",
       "      <td>19.393128</td>\n",
       "      <td>1</td>\n",
       "      <td>99</td>\n",
       "    </tr>\n",
       "    <tr>\n",
       "      <th>75000-100000</th>\n",
       "      <td>17.288477</td>\n",
       "      <td>1</td>\n",
       "      <td>99</td>\n",
       "    </tr>\n",
       "  </tbody>\n",
       "</table>\n",
       "</div>"
      ],
      "text/plain": [
       "               order_number        \n",
       "                       mean min max\n",
       "income_profile                     \n",
       "100000-125000     17.271478   1  99\n",
       "125000-150000     17.117874   1  99\n",
       "150000-175000     17.290060   1  99\n",
       "175000-200000     19.145743   1  99\n",
       "200000-300000     19.561127   1  99\n",
       "25000-50000       15.896069   1  99\n",
       "300000-400000     20.869333   1  99\n",
       "400000-500000     18.736775   1  99\n",
       "50000-75000       17.350705   1  99\n",
       "500000+           19.393128   1  99\n",
       "75000-100000      17.288477   1  99"
      ]
     },
     "execution_count": 44,
     "metadata": {},
     "output_type": "execute_result"
    }
   ],
   "source": [
    "# Order number by income\n",
    "instacart_pii.groupby('income_profile').agg({'order_number': ['mean', 'min', 'max']})"
   ]
  },
  {
   "cell_type": "code",
   "execution_count": 45,
   "id": "46c53b8c",
   "metadata": {},
   "outputs": [
    {
     "data": {
      "text/html": [
       "<div>\n",
       "<style scoped>\n",
       "    .dataframe tbody tr th:only-of-type {\n",
       "        vertical-align: middle;\n",
       "    }\n",
       "\n",
       "    .dataframe tbody tr th {\n",
       "        vertical-align: top;\n",
       "    }\n",
       "\n",
       "    .dataframe thead tr th {\n",
       "        text-align: left;\n",
       "    }\n",
       "\n",
       "    .dataframe thead tr:last-of-type th {\n",
       "        text-align: right;\n",
       "    }\n",
       "</style>\n",
       "<table border=\"1\" class=\"dataframe\">\n",
       "  <thead>\n",
       "    <tr>\n",
       "      <th></th>\n",
       "      <th colspan=\"3\" halign=\"left\">prices</th>\n",
       "    </tr>\n",
       "    <tr>\n",
       "      <th></th>\n",
       "      <th>mean</th>\n",
       "      <th>min</th>\n",
       "      <th>max</th>\n",
       "    </tr>\n",
       "    <tr>\n",
       "      <th>dependents_profile</th>\n",
       "      <th></th>\n",
       "      <th></th>\n",
       "      <th></th>\n",
       "    </tr>\n",
       "  </thead>\n",
       "  <tbody>\n",
       "    <tr>\n",
       "      <th>Non-parent</th>\n",
       "      <td>12.129243</td>\n",
       "      <td>1.0</td>\n",
       "      <td>99999.0</td>\n",
       "    </tr>\n",
       "    <tr>\n",
       "      <th>Parent</th>\n",
       "      <td>11.930584</td>\n",
       "      <td>1.0</td>\n",
       "      <td>99999.0</td>\n",
       "    </tr>\n",
       "  </tbody>\n",
       "</table>\n",
       "</div>"
      ],
      "text/plain": [
       "                       prices              \n",
       "                         mean  min      max\n",
       "dependents_profile                         \n",
       "Non-parent          12.129243  1.0  99999.0\n",
       "Parent              11.930584  1.0  99999.0"
      ]
     },
     "execution_count": 45,
     "metadata": {},
     "output_type": "execute_result"
    }
   ],
   "source": [
    "# price by profile\n",
    "instacart_pii.groupby('dependents_profile').agg({'prices': ['mean', 'min', 'max']})"
   ]
  },
  {
   "cell_type": "code",
   "execution_count": 46,
   "id": "08500e65",
   "metadata": {},
   "outputs": [
    {
     "data": {
      "text/html": [
       "<div>\n",
       "<style scoped>\n",
       "    .dataframe tbody tr th:only-of-type {\n",
       "        vertical-align: middle;\n",
       "    }\n",
       "\n",
       "    .dataframe tbody tr th {\n",
       "        vertical-align: top;\n",
       "    }\n",
       "\n",
       "    .dataframe thead tr th {\n",
       "        text-align: left;\n",
       "    }\n",
       "\n",
       "    .dataframe thead tr:last-of-type th {\n",
       "        text-align: right;\n",
       "    }\n",
       "</style>\n",
       "<table border=\"1\" class=\"dataframe\">\n",
       "  <thead>\n",
       "    <tr>\n",
       "      <th></th>\n",
       "      <th colspan=\"3\" halign=\"left\">prices</th>\n",
       "    </tr>\n",
       "    <tr>\n",
       "      <th></th>\n",
       "      <th>mean</th>\n",
       "      <th>min</th>\n",
       "      <th>max</th>\n",
       "    </tr>\n",
       "    <tr>\n",
       "      <th>income_profile</th>\n",
       "      <th></th>\n",
       "      <th></th>\n",
       "      <th></th>\n",
       "    </tr>\n",
       "  </thead>\n",
       "  <tbody>\n",
       "    <tr>\n",
       "      <th>100000-125000</th>\n",
       "      <td>9.923348</td>\n",
       "      <td>1.0</td>\n",
       "      <td>99999.0</td>\n",
       "    </tr>\n",
       "    <tr>\n",
       "      <th>125000-150000</th>\n",
       "      <td>11.136802</td>\n",
       "      <td>1.0</td>\n",
       "      <td>99999.0</td>\n",
       "    </tr>\n",
       "    <tr>\n",
       "      <th>150000-175000</th>\n",
       "      <td>14.076450</td>\n",
       "      <td>1.0</td>\n",
       "      <td>99999.0</td>\n",
       "    </tr>\n",
       "    <tr>\n",
       "      <th>175000-200000</th>\n",
       "      <td>248.316061</td>\n",
       "      <td>1.0</td>\n",
       "      <td>99999.0</td>\n",
       "    </tr>\n",
       "    <tr>\n",
       "      <th>200000-300000</th>\n",
       "      <td>260.626636</td>\n",
       "      <td>1.0</td>\n",
       "      <td>99999.0</td>\n",
       "    </tr>\n",
       "    <tr>\n",
       "      <th>25000-50000</th>\n",
       "      <td>6.696985</td>\n",
       "      <td>1.0</td>\n",
       "      <td>25.0</td>\n",
       "    </tr>\n",
       "    <tr>\n",
       "      <th>300000-400000</th>\n",
       "      <td>309.424275</td>\n",
       "      <td>1.0</td>\n",
       "      <td>99999.0</td>\n",
       "    </tr>\n",
       "    <tr>\n",
       "      <th>400000-500000</th>\n",
       "      <td>262.410869</td>\n",
       "      <td>1.0</td>\n",
       "      <td>99999.0</td>\n",
       "    </tr>\n",
       "    <tr>\n",
       "      <th>50000-75000</th>\n",
       "      <td>7.834941</td>\n",
       "      <td>1.0</td>\n",
       "      <td>14900.0</td>\n",
       "    </tr>\n",
       "    <tr>\n",
       "      <th>500000+</th>\n",
       "      <td>176.562997</td>\n",
       "      <td>1.0</td>\n",
       "      <td>99999.0</td>\n",
       "    </tr>\n",
       "    <tr>\n",
       "      <th>75000-100000</th>\n",
       "      <td>9.075728</td>\n",
       "      <td>1.0</td>\n",
       "      <td>99999.0</td>\n",
       "    </tr>\n",
       "  </tbody>\n",
       "</table>\n",
       "</div>"
      ],
      "text/plain": [
       "                    prices              \n",
       "                      mean  min      max\n",
       "income_profile                          \n",
       "100000-125000     9.923348  1.0  99999.0\n",
       "125000-150000    11.136802  1.0  99999.0\n",
       "150000-175000    14.076450  1.0  99999.0\n",
       "175000-200000   248.316061  1.0  99999.0\n",
       "200000-300000   260.626636  1.0  99999.0\n",
       "25000-50000       6.696985  1.0     25.0\n",
       "300000-400000   309.424275  1.0  99999.0\n",
       "400000-500000   262.410869  1.0  99999.0\n",
       "50000-75000       7.834941  1.0  14900.0\n",
       "500000+         176.562997  1.0  99999.0\n",
       "75000-100000      9.075728  1.0  99999.0"
      ]
     },
     "execution_count": 46,
     "metadata": {},
     "output_type": "execute_result"
    }
   ],
   "source": [
    "# prices by income\n",
    "instacart_pii.groupby('income_profile').agg({'prices': ['mean', 'min', 'max']})"
   ]
  },
  {
   "cell_type": "markdown",
   "id": "88481a91",
   "metadata": {},
   "source": [
    "## Task 8 Compare customer profiles with regions and departments"
   ]
  },
  {
   "cell_type": "code",
   "execution_count": 47,
   "id": "c749c237",
   "metadata": {},
   "outputs": [],
   "source": [
    "region_spending_crosstab = pd.crosstab(instacart_pii['region'], instacart_pii['spending_flag'], dropna = False)"
   ]
  },
  {
   "cell_type": "code",
   "execution_count": 48,
   "id": "39f73a03",
   "metadata": {},
   "outputs": [
    {
     "data": {
      "text/html": [
       "<div>\n",
       "<style scoped>\n",
       "    .dataframe tbody tr th:only-of-type {\n",
       "        vertical-align: middle;\n",
       "    }\n",
       "\n",
       "    .dataframe tbody tr th {\n",
       "        vertical-align: top;\n",
       "    }\n",
       "\n",
       "    .dataframe thead th {\n",
       "        text-align: right;\n",
       "    }\n",
       "</style>\n",
       "<table border=\"1\" class=\"dataframe\">\n",
       "  <thead>\n",
       "    <tr style=\"text-align: right;\">\n",
       "      <th>spending_flag</th>\n",
       "      <th>High spender</th>\n",
       "      <th>Low spender</th>\n",
       "    </tr>\n",
       "    <tr>\n",
       "      <th>region</th>\n",
       "      <th></th>\n",
       "      <th></th>\n",
       "    </tr>\n",
       "  </thead>\n",
       "  <tbody>\n",
       "    <tr>\n",
       "      <th>Midwest</th>\n",
       "      <td>55706</td>\n",
       "      <td>176898</td>\n",
       "    </tr>\n",
       "    <tr>\n",
       "      <th>Northeast</th>\n",
       "      <td>42782</td>\n",
       "      <td>134241</td>\n",
       "    </tr>\n",
       "    <tr>\n",
       "      <th>South</th>\n",
       "      <td>80446</td>\n",
       "      <td>253132</td>\n",
       "    </tr>\n",
       "    <tr>\n",
       "      <th>West</th>\n",
       "      <td>60418</td>\n",
       "      <td>196008</td>\n",
       "    </tr>\n",
       "  </tbody>\n",
       "</table>\n",
       "</div>"
      ],
      "text/plain": [
       "spending_flag  High spender  Low spender\n",
       "region                                  \n",
       "Midwest               55706       176898\n",
       "Northeast             42782       134241\n",
       "South                 80446       253132\n",
       "West                  60418       196008"
      ]
     },
     "execution_count": 48,
     "metadata": {},
     "output_type": "execute_result"
    }
   ],
   "source": [
    "region_spending_crosstab"
   ]
  },
  {
   "cell_type": "code",
   "execution_count": 52,
   "id": "e21c5adb",
   "metadata": {},
   "outputs": [
    {
     "data": {
      "image/png": "[encoded data removed]",
      "text/plain": [
       "<Figure size 432x288 with 1 Axes>"
      ]
     },
     "metadata": {
      "needs_background": "light"
     },
     "output_type": "display_data"
    }
   ],
   "source": [
    "region_spending_chart = region_spending_crosstab.plot.bar(stacked = True,title = 'Types of Spenders, by Region')"
   ]
  },
  {
   "cell_type": "markdown",
   "id": "d1630a76",
   "metadata": {},
   "source": [
    "## Project Q and A"
   ]
  },
  {
   "cell_type": "code",
   "execution_count": null,
   "id": "e89e79dc",
   "metadata": {},
   "outputs": [],
   "source": [
    "# 1.What are the busiest hours for orders?"
   ]
  },
  {
   "cell_type": "code",
   "execution_count": 62,
   "id": "9f0f2e38",
   "metadata": {},
   "outputs": [
    {
     "data": {
      "text/plain": [
       "Text(0, 0.5, 'frequency')"
      ]
     },
     "execution_count": 62,
     "metadata": {},
     "output_type": "execute_result"
    },
    {
     "data": {
      "image/png": "[encoded data removed]",
      "text/plain": [
       "<Figure size 432x288 with 1 Axes>"
      ]
     },
     "metadata": {
      "needs_background": "light"
     },
     "output_type": "display_data"
    }
   ],
   "source": [
    "bar_hour = instacart_pii ['order_hour_of_day'].value_counts().sort_index().plot.bar()\n",
    "plt.ylabel('frequency')"
   ]
  },
  {
   "cell_type": "code",
   "execution_count": 66,
   "id": "5b787531",
   "metadata": {},
   "outputs": [],
   "source": [
    "bar_hour.figure.savefig(os.path.join(file_location, '04 Analysis', 'Visualizations', 'bar_hour.png'))"
   ]
  },
  {
   "cell_type": "code",
   "execution_count": 63,
   "id": "f4c0f11d",
   "metadata": {},
   "outputs": [
    {
     "data": {
      "text/plain": [
       "Text(0, 0.5, 'frequency')"
      ]
     },
     "execution_count": 63,
     "metadata": {},
     "output_type": "execute_result"
    },
    {
     "data": {
      "image/png": "[encoded data removed]",
      "text/plain": [
       "<Figure size 432x288 with 1 Axes>"
      ]
     },
     "metadata": {
      "needs_background": "light"
     },
     "output_type": "display_data"
    }
   ],
   "source": [
    "# What are the busiest days?\n",
    "\n",
    "bar_days = instacart_pii ['orders_day_of_week'].value_counts().sort_index().plot.bar()\n",
    "plt.ylabel('frequency')"
   ]
  },
  {
   "cell_type": "code",
   "execution_count": 65,
   "id": "d4e3d60f",
   "metadata": {},
   "outputs": [],
   "source": [
    "bar_days.figure.savefig(os.path.join(file_location, '04 Analysis', 'Visualizations', 'bar_days.png'))"
   ]
  },
  {
   "cell_type": "code",
   "execution_count": null,
   "id": "3bc48f02",
   "metadata": {},
   "outputs": [],
   "source": [
    "#2: What times of day do people spend the most money?"
   ]
  },
  {
   "cell_type": "code",
   "execution_count": 69,
   "id": "f71dc39f",
   "metadata": {},
   "outputs": [],
   "source": [
    "# line chart for prices by hour\n",
    "avg_price_per_hour = instacart_pii.groupby('order_hour_of_day').agg({'prices': ['mean']})"
   ]
  },
  {
   "cell_type": "code",
   "execution_count": 70,
   "id": "4a82f5fc",
   "metadata": {},
   "outputs": [
    {
     "data": {
      "image/png": "[encoded data removed]",
      "text/plain": [
       "<Figure size 432x288 with 1 Axes>"
      ]
     },
     "metadata": {
      "needs_background": "light"
     },
     "output_type": "display_data"
    }
   ],
   "source": [
    "avg_price_per_hour_chart = sns.lineplot(data = avg_price_per_hour)"
   ]
  },
  {
   "cell_type": "code",
   "execution_count": 71,
   "id": "8134ba6b",
   "metadata": {},
   "outputs": [],
   "source": [
    "#exporting\n",
    "avg_price_per_hour_chart.figure.savefig(os.path.join(file_location, '04 Analysis', 'Visualizations', 'avg_price_per_hour.png'))"
   ]
  },
  {
   "cell_type": "markdown",
   "id": "d4c0407c",
   "metadata": {},
   "source": [
    "# Task 3  Instacart has a lot of products with different price tags. Marketing and sales want to use simpler price range groupings to help direct their efforts."
   ]
  },
  {
   "cell_type": "code",
   "execution_count": null,
   "id": "99cb1363",
   "metadata": {},
   "outputs": [],
   "source": [
    "# creating price range flag"
   ]
  },
  {
   "cell_type": "code",
   "execution_count": 72,
   "id": "4278c38d",
   "metadata": {},
   "outputs": [],
   "source": [
    "instacart_pii.loc[(instacart_pii['prices'] >= 0) & (instacart_pii['prices'] < 7.4), 'price_range_flag'] = 'Low price group'"
   ]
  },
  {
   "cell_type": "code",
   "execution_count": 73,
   "id": "cac9acd2",
   "metadata": {},
   "outputs": [],
   "source": [
    "instacart_pii.loc[(instacart_pii['prices'] >= 7.4) & (instacart_pii['prices'] < 12), 'price_range_flag'] = 'Average price group'"
   ]
  },
  {
   "cell_type": "code",
   "execution_count": 74,
   "id": "b9812d60",
   "metadata": {},
   "outputs": [],
   "source": [
    "instacart_pii.loc[(instacart_pii['prices'] >= 12) & (instacart_pii['prices'] < 100), 'price_range_flag'] = 'High price group'"
   ]
  },
  {
   "cell_type": "code",
   "execution_count": 75,
   "id": "99ff34ad",
   "metadata": {},
   "outputs": [],
   "source": [
    "instacart_pii.loc[instacart_pii['prices'] >= 100, 'price_range_flag'] = 'Extremely high price group'"
   ]
  },
  {
   "cell_type": "code",
   "execution_count": 76,
   "id": "8aec3890",
   "metadata": {},
   "outputs": [
    {
     "data": {
      "text/plain": [
       "Low price group               16155666\n",
       "Average price group            9645062\n",
       "High price group               6599004\n",
       "Extremely high price group        5127\n",
       "Name: price_range_flag, dtype: int64"
      ]
     },
     "execution_count": 76,
     "metadata": {},
     "output_type": "execute_result"
    }
   ],
   "source": [
    "instacart_pii['price_range_flag'].value_counts(dropna = False)"
   ]
  },
  {
   "cell_type": "code",
   "execution_count": 77,
   "id": "ef15e6ac",
   "metadata": {},
   "outputs": [
    {
     "data": {
      "image/png": "[encoded data removed]",
      "text/plain": [
       "<Figure size 432x288 with 1 Axes>"
      ]
     },
     "metadata": {
      "needs_background": "light"
     },
     "output_type": "display_data"
    }
   ],
   "source": [
    "price_range_chart = instacart_pii ['price_range_flag'].value_counts().plot.bar(color = 'tab:blue', xlabel = 'Price range group', ylabel = 'Count (millions)', title = 'Price range profile distribution')"
   ]
  },
  {
   "cell_type": "code",
   "execution_count": 78,
   "id": "52ab98f4",
   "metadata": {},
   "outputs": [],
   "source": [
    "price_range_chart.figure.savefig(os.path.join(file_location, '04 Analysis', 'Visualizations', 'price_range_profile_distribution.png'))"
   ]
  },
  {
   "cell_type": "markdown",
   "id": "2ca7b6a2",
   "metadata": {},
   "source": [
    "# task 4. Are there certain types of products that are more popular than others? The marketing and sales teams want to know which departments have the highest frequency of product orders."
   ]
  },
  {
   "cell_type": "code",
   "execution_count": null,
   "id": "0d6eb91e",
   "metadata": {},
   "outputs": [],
   "source": [
    "# Bar chart to show total counts of each produce category order."
   ]
  },
  {
   "cell_type": "code",
   "execution_count": null,
   "id": "99f5980c",
   "metadata": {},
   "outputs": [],
   "source": [
    "# creating goods/products profile"
   ]
  },
  {
   "cell_type": "code",
   "execution_count": 83,
   "id": "8cfc4b83",
   "metadata": {},
   "outputs": [],
   "source": [
    "# Create 'goods' list\n",
    "\n",
    "goods_profile_list = []\n",
    "\n",
    "for value in instacart_pii['department_id']:\n",
    "    if value == 1:\n",
    "        goods_profile_list.append('Frozen')\n",
    "    elif value == 2:\n",
    "        goods_profile_list.append('Other')\n",
    "    elif value == 3:\n",
    "        goods_profile_list.append('Bakery')\n",
    "    elif value == 4:\n",
    "        goods_profile_list.append('Produce')\n",
    "    elif value == 5:\n",
    "        goods_profile_list.append('Alcohol')\n",
    "    elif value == 6:\n",
    "        goods_profile_list.append('International')\n",
    "    elif value == 7:\n",
    "        goods_profile_list.append('Beverages')\n",
    "    elif value == 8:\n",
    "        goods_profile_list.append('Pets')\n",
    "    elif value == 9:\n",
    "        goods_profile_list.append('Dry goods pasta')\n",
    "    elif value == 10:\n",
    "        goods_profile_list.append('Bulk')\n",
    "    elif value == 11:\n",
    "        goods_profile_list.append('Personal care')\n",
    "    elif value == 12:\n",
    "        goods_profile_list.append('Meat seafood')\n",
    "    elif value == 13:\n",
    "        goods_profile_list.append('Pantry')\n",
    "    elif value == 14:\n",
    "        goods_profile_list.append('Breakfast')\n",
    "    elif value == 15:\n",
    "        goods_profile_list.append('Canned goods')\n",
    "    elif value == 16:\n",
    "        goods_profile_list.append('Dairy eggs')\n",
    "    elif value == 17:\n",
    "        goods_profile_list.append('Household')\n",
    "    elif value == 18:\n",
    "        goods_profile_list.append('Babies')\n",
    "    elif value == 19:\n",
    "        goods_profile_list.append('Snacks')\n",
    "    elif value == 20:\n",
    "        goods_profile_list.append('Deli')\n",
    "    elif value == 21:\n",
    "        goods_profile_list.append('Missing')"
   ]
  },
  {
   "cell_type": "code",
   "execution_count": 85,
   "id": "250933cb",
   "metadata": {},
   "outputs": [],
   "source": [
    "# Assign goods list to column\n",
    "\n",
    "instacart_pii['goods_profile'] = goods_profile_list"
   ]
  },
  {
   "cell_type": "code",
   "execution_count": 86,
   "id": "3594263a",
   "metadata": {},
   "outputs": [],
   "source": [
    "product_crosstab = pd.crosstab(instacart_pii['goods_profile'], instacart_pii['order_number'], dropna = False)"
   ]
  },
  {
   "cell_type": "code",
   "execution_count": 87,
   "id": "27fa01d0",
   "metadata": {},
   "outputs": [
    {
     "data": {
      "image/png": "[encoded data removed]",
      "text/plain": [
       "<Figure size 432x288 with 1 Axes>"
      ]
     },
     "metadata": {
      "needs_background": "light"
     },
     "output_type": "display_data"
    }
   ],
   "source": [
    "product_crosstab_chart = product_crosstab.plot(stacked = True, kind = 'bar', xlabel = 'Product group', ylabel = 'Count (in millions)', title = 'Product Popularity by Group', legend = None, color = 'tab:orange')"
   ]
  },
  {
   "cell_type": "code",
   "execution_count": 89,
   "id": "23d51d48",
   "metadata": {},
   "outputs": [],
   "source": [
    "product_crosstab_chart.figure.savefig(os.path.join(file_location, '04 Analysis', 'Visualizations', 'product_popularity.png'))"
   ]
  },
  {
   "cell_type": "markdown",
   "id": "f37a9af0",
   "metadata": {},
   "source": [
    "# 5. Are there differences in ordering habits based on a customer’s loyalty status?"
   ]
  },
  {
   "cell_type": "code",
   "execution_count": null,
   "id": "c84902df",
   "metadata": {},
   "outputs": [],
   "source": [
    "# Comparing loyalty status with spending flag"
   ]
  },
  {
   "cell_type": "code",
   "execution_count": 92,
   "id": "7968b5e1",
   "metadata": {},
   "outputs": [],
   "source": [
    "loyalty_avg_price = pd.crosstab(instacart_pii['loyalty_flag'],instacart_pii['spending_flag'], dropna = False)"
   ]
  },
  {
   "cell_type": "code",
   "execution_count": 93,
   "id": "25d07dff",
   "metadata": {},
   "outputs": [
    {
     "data": {
      "image/png": "[encoded data removed]",
      "text/plain": [
       "<Figure size 432x288 with 1 Axes>"
      ]
     },
     "metadata": {
      "needs_background": "light"
     },
     "output_type": "display_data"
    }
   ],
   "source": [
    "loyalty_avg_price_chart = loyalty_avg_price.plot.bar()"
   ]
  },
  {
   "cell_type": "code",
   "execution_count": 95,
   "id": "faa9f5a2",
   "metadata": {},
   "outputs": [],
   "source": [
    "loyalty_avg_price_chart.figure.savefig(os.path.join(file_location, '04 Analysis', 'Visualizations', 'loyalty_avg_price_chart.png'))"
   ]
  },
  {
   "cell_type": "markdown",
   "id": "83f080fd",
   "metadata": {},
   "source": [
    "# 5. Are there differences in ordering habits based on a customer’s region?"
   ]
  },
  {
   "cell_type": "code",
   "execution_count": null,
   "id": "d8d52f2e",
   "metadata": {},
   "outputs": [],
   "source": [
    "# Comparing region and loyalty status"
   ]
  },
  {
   "cell_type": "code",
   "execution_count": 96,
   "id": "a494c46a",
   "metadata": {},
   "outputs": [],
   "source": [
    "region_loyalty = pd.crosstab(instacart_pii['region'], instacart_pii['loyalty_flag'], dropna = False)"
   ]
  },
  {
   "cell_type": "code",
   "execution_count": 97,
   "id": "26163e9a",
   "metadata": {},
   "outputs": [
    {
     "data": {
      "image/png": "[encoded data removed]",
      "text/plain": [
       "<Figure size 432x288 with 1 Axes>"
      ]
     },
     "metadata": {
      "needs_background": "light"
     },
     "output_type": "display_data"
    }
   ],
   "source": [
    "region_loyalty_chart = region_loyalty.plot.bar(stacked = True)"
   ]
  },
  {
   "cell_type": "code",
   "execution_count": 118,
   "id": "48d7fa7c",
   "metadata": {},
   "outputs": [],
   "source": [
    "region_loyalty_chart.figure.savefig(os.path.join(file_location, '04 Analysis', 'Visualizations', 'region_loyalty_chart.png'))"
   ]
  },
  {
   "cell_type": "markdown",
   "id": "34b3e3a1",
   "metadata": {},
   "source": [
    "## 5. Is there a connection between age and family status in terms of ordering habits?"
   ]
  },
  {
   "cell_type": "code",
   "execution_count": null,
   "id": "130ffd97",
   "metadata": {},
   "outputs": [],
   "source": [
    "# Dependents status and ordering habits"
   ]
  },
  {
   "cell_type": "code",
   "execution_count": 100,
   "id": "193137f5",
   "metadata": {},
   "outputs": [],
   "source": [
    "dependents_habits = pd.crosstab(instacart_pii['loyalty_flag'], instacart_pii['dependents_profile'], dropna = False)"
   ]
  },
  {
   "cell_type": "code",
   "execution_count": 101,
   "id": "a731e694",
   "metadata": {},
   "outputs": [
    {
     "data": {
      "image/png": "[encoded data removed]",
      "text/plain": [
       "<Figure size 432x288 with 1 Axes>"
      ]
     },
     "metadata": {
      "needs_background": "light"
     },
     "output_type": "display_data"
    }
   ],
   "source": [
    "dependents_habits_chart = dependents_habits.plot.bar(stacked = True)"
   ]
  },
  {
   "cell_type": "code",
   "execution_count": 102,
   "id": "a90a5917",
   "metadata": {},
   "outputs": [],
   "source": [
    "dependents_habits_chart.figure.savefig(os.path.join(file_location, '04 Analysis', 'Visualizations', 'dependents_habits.png'))"
   ]
  },
  {
   "cell_type": "code",
   "execution_count": null,
   "id": "c56991fc",
   "metadata": {},
   "outputs": [],
   "source": [
    "# age relationship with ordering"
   ]
  },
  {
   "cell_type": "code",
   "execution_count": 103,
   "id": "22c6e3fc",
   "metadata": {},
   "outputs": [],
   "source": [
    "age_rln_orders = pd.crosstab(instacart_pii['age_profile'], instacart_pii['loyalty_flag'])"
   ]
  },
  {
   "cell_type": "code",
   "execution_count": 105,
   "id": "85692314",
   "metadata": {},
   "outputs": [
    {
     "data": {
      "image/png": "[encoded data removed]",
      "text/plain": [
       "<Figure size 432x288 with 1 Axes>"
      ]
     },
     "metadata": {
      "needs_background": "light"
     },
     "output_type": "display_data"
    }
   ],
   "source": [
    "age_rln_orders= age_rln_orders.plot.bar(stacked = True)"
   ]
  },
  {
   "cell_type": "code",
   "execution_count": 107,
   "id": "b19869e1",
   "metadata": {},
   "outputs": [],
   "source": [
    "age_rln_orders.figure.savefig(os.path.join(file_location, '04 Analysis', 'Visualizations', 'age_rln_orders.png'))"
   ]
  },
  {
   "cell_type": "markdown",
   "id": "12ec830b",
   "metadata": {},
   "source": [
    "# Task 5  What differences can you find in ordering habits of different customer profiles? Consider the price of orders, the frequency of orders, the products customers are ordering, and anything else you can think of."
   ]
  },
  {
   "cell_type": "code",
   "execution_count": null,
   "id": "7f551178",
   "metadata": {},
   "outputs": [],
   "source": [
    "# Dependency status and order frequency"
   ]
  },
  {
   "cell_type": "code",
   "execution_count": 108,
   "id": "f4911c65",
   "metadata": {},
   "outputs": [],
   "source": [
    "dependents_frequency = pd.crosstab(instacart_pii['dependents_profile'], instacart_pii['days_since_prior_order'], dropna = False)"
   ]
  },
  {
   "cell_type": "code",
   "execution_count": 109,
   "id": "0194b215",
   "metadata": {},
   "outputs": [
    {
     "data": {
      "text/plain": [
       "<matplotlib.legend.Legend at 0x1d42e1e38e0>"
      ]
     },
     "execution_count": 109,
     "metadata": {},
     "output_type": "execute_result"
    },
    {
     "data": {
      "image/png": "[encoded data removed]",
      "text/plain": [
       "<Figure size 432x288 with 1 Axes>"
      ]
     },
     "metadata": {
      "needs_background": "light"
     },
     "output_type": "display_data"
    }
   ],
   "source": [
    "dependents_frequency_chart = dependents_frequency.plot.bar(title = 'Order Frequency by Family Status')\n",
    "plt.legend(bbox_to_anchor = (1.3, 1.5))"
   ]
  },
  {
   "cell_type": "code",
   "execution_count": 110,
   "id": "6047bba8",
   "metadata": {},
   "outputs": [],
   "source": [
    "dependents_frequency_chart.figure.savefig(os.path.join(file_location, '04 Analysis', 'Visualizations', 'dependents_frequency.png'))"
   ]
  },
  {
   "cell_type": "code",
   "execution_count": null,
   "id": "0af180fe",
   "metadata": {},
   "outputs": [],
   "source": [
    "# Goods by region"
   ]
  },
  {
   "cell_type": "code",
   "execution_count": 111,
   "id": "93495baa",
   "metadata": {},
   "outputs": [],
   "source": [
    "region_goods = pd.crosstab(instacart_pii['goods_profile'], instacart_pii['region'], dropna = False)"
   ]
  },
  {
   "cell_type": "code",
   "execution_count": 112,
   "id": "69acd97a",
   "metadata": {},
   "outputs": [
    {
     "data": {
      "image/png": "[encoded data removed]",
      "text/plain": [
       "<Figure size 432x288 with 1 Axes>"
      ]
     },
     "metadata": {
      "needs_background": "light"
     },
     "output_type": "display_data"
    }
   ],
   "source": [
    "region_goods_chart = region_goods.plot.bar()"
   ]
  },
  {
   "cell_type": "code",
   "execution_count": 113,
   "id": "4d473642",
   "metadata": {},
   "outputs": [],
   "source": [
    "region_goods_chart.figure.savefig(os.path.join(file_location, '04 Analysis', 'Visualizations', 'region_goods.png'))"
   ]
  },
  {
   "cell_type": "code",
   "execution_count": null,
   "id": "c6b0b93a",
   "metadata": {},
   "outputs": [],
   "source": [
    "# Family and loyalty "
   ]
  },
  {
   "cell_type": "code",
   "execution_count": 114,
   "id": "66b56c46",
   "metadata": {},
   "outputs": [],
   "source": [
    "fam_loyalty = pd.crosstab(instacart_pii['loyalty_flag'], instacart_pii['fam_status'], dropna = False)"
   ]
  },
  {
   "cell_type": "code",
   "execution_count": 115,
   "id": "c24014d6",
   "metadata": {},
   "outputs": [
    {
     "data": {
      "image/png": "[encoded data removed]",
      "text/plain": [
       "<Figure size 432x288 with 1 Axes>"
      ]
     },
     "metadata": {
      "needs_background": "light"
     },
     "output_type": "display_data"
    }
   ],
   "source": [
    "fam_loyalty_chart = fam_loyalty.plot.bar(stacked = True)"
   ]
  },
  {
   "cell_type": "code",
   "execution_count": 117,
   "id": "e1f40d2f",
   "metadata": {},
   "outputs": [],
   "source": [
    "fam_loyalty_chart.figure.savefig(os.path.join(file_location, '04 Analysis', 'Visualizations', 'family_loyalty.png'))"
   ]
  },
  {
   "cell_type": "code",
   "execution_count": null,
   "id": "81c4303d",
   "metadata": {},
   "outputs": [],
   "source": []
  }
 ],
 "metadata": {
  "kernelspec": {
   "display_name": "Python 3 (ipykernel)",
   "language": "python",
   "name": "python3"
  },
  "language_info": {
   "codemirror_mode": {
    "name": "ipython",
    "version": 3
   },
   "file_extension": ".py",
   "mimetype": "text/x-python",
   "name": "python",
   "nbconvert_exporter": "python",
   "pygments_lexer": "ipython3",
   "version": "3.9.12"
  }
 },
 "nbformat": 4,
 "nbformat_minor": 5
}
